{
 "cells": [
  {
   "cell_type": "code",
   "execution_count": 12,
   "id": "7ecf023b-ad46-4233-b075-31aee54ec448",
   "metadata": {
    "tags": []
   },
   "outputs": [
    {
     "name": "stdout",
     "output_type": "stream",
     "text": [
      "HTTP Status: 200\n"
     ]
    },
    {
     "data": {
      "text/html": [
       "<div>\n",
       "<style scoped>\n",
       "    .dataframe tbody tr th:only-of-type {\n",
       "        vertical-align: middle;\n",
       "    }\n",
       "\n",
       "    .dataframe tbody tr th {\n",
       "        vertical-align: top;\n",
       "    }\n",
       "\n",
       "    .dataframe thead th {\n",
       "        text-align: right;\n",
       "    }\n",
       "</style>\n",
       "<table border=\"1\" class=\"dataframe\">\n",
       "  <thead>\n",
       "    <tr style=\"text-align: right;\">\n",
       "      <th></th>\n",
       "      <th>0</th>\n",
       "    </tr>\n",
       "  </thead>\n",
       "  <tbody>\n",
       "    <tr>\n",
       "      <th>11336</th>\n",
       "      <td>b'6,,,,,,,,56,33.8,15,,253,0,,,,,0,,,,,1,,0,0,...</td>\n",
       "    </tr>\n",
       "    <tr>\n",
       "      <th>11337</th>\n",
       "      <td>b'0,0,0,0,0,0,0,0,0,0,0,0,0,0,0,0,0,,,,,,,,,,,...</td>\n",
       "    </tr>\n",
       "    <tr>\n",
       "      <th>11338</th>\n",
       "      <td>b',,,,,,,,,,,,,,,,,,,,,,,,,,,,,,,,,,,,,,,,1,0,...</td>\n",
       "    </tr>\n",
       "    <tr>\n",
       "      <th>11339</th>\n",
       "      <td>b',,,,,,,,,,,,,,,,,,,,,,,,,,,,,,,,,,,,,,,,,,,,...</td>\n",
       "    </tr>\n",
       "    <tr>\n",
       "      <th>11340</th>\n",
       "      <td>b',,,,,,,,,,,,,,,,,,,,,,,,,,,,,,,,,,,,,,,,,,,,...</td>\n",
       "    </tr>\n",
       "    <tr>\n",
       "      <th>...</th>\n",
       "      <td>...</td>\n",
       "    </tr>\n",
       "    <tr>\n",
       "      <th>11521</th>\n",
       "      <td>b',,,,,,,,,,,,,,,,,,,,,,,,,,,,,,,,,,,,,,,,,,,,...</td>\n",
       "    </tr>\n",
       "    <tr>\n",
       "      <th>11522</th>\n",
       "      <td>b',,,,,,,,,,,,,,,,,,,,,,,,,,,,,,,,,,,,,,,,,,,,...</td>\n",
       "    </tr>\n",
       "    <tr>\n",
       "      <th>11523</th>\n",
       "      <td>b',,,,,,,,,,,,,,,,,,,,,,,,,,,,,,,,,,,,,,,,,,,,...</td>\n",
       "    </tr>\n",
       "    <tr>\n",
       "      <th>11524</th>\n",
       "      <td>b',,,,,,,,,,,,,,,,,,,,,,,,,,,,,,,,,,,,,,,,,,,,...</td>\n",
       "    </tr>\n",
       "    <tr>\n",
       "      <th>11525</th>\n",
       "      <td>b',,,,,,,,,,,,,,,,,,,,,,,,,,,,,,,,,,,,,,,,,,,,...</td>\n",
       "    </tr>\n",
       "  </tbody>\n",
       "</table>\n",
       "<p>190 rows × 1 columns</p>\n",
       "</div>"
      ],
      "text/plain": [
       "                                                       0\n",
       "11336  b'6,,,,,,,,56,33.8,15,,253,0,,,,,0,,,,,1,,0,0,...\n",
       "11337  b'0,0,0,0,0,0,0,0,0,0,0,0,0,0,0,0,0,,,,,,,,,,,...\n",
       "11338  b',,,,,,,,,,,,,,,,,,,,,,,,,,,,,,,,,,,,,,,,1,0,...\n",
       "11339  b',,,,,,,,,,,,,,,,,,,,,,,,,,,,,,,,,,,,,,,,,,,,...\n",
       "11340  b',,,,,,,,,,,,,,,,,,,,,,,,,,,,,,,,,,,,,,,,,,,,...\n",
       "...                                                  ...\n",
       "11521  b',,,,,,,,,,,,,,,,,,,,,,,,,,,,,,,,,,,,,,,,,,,,...\n",
       "11522  b',,,,,,,,,,,,,,,,,,,,,,,,,,,,,,,,,,,,,,,,,,,,...\n",
       "11523  b',,,,,,,,,,,,,,,,,,,,,,,,,,,,,,,,,,,,,,,,,,,,...\n",
       "11524  b',,,,,,,,,,,,,,,,,,,,,,,,,,,,,,,,,,,,,,,,,,,,...\n",
       "11525  b',,,,,,,,,,,,,,,,,,,,,,,,,,,,,,,,,,,,,,,,,,,,...\n",
       "\n",
       "[190 rows x 1 columns]"
      ]
     },
     "execution_count": 12,
     "metadata": {},
     "output_type": "execute_result"
    }
   ],
   "source": [
    "import json\n",
    "import requests\n",
    "import pandas as pd\n",
    "\n",
    "\n",
    "           #!/usr/bin/env python\n",
    "\n",
    "data = {\n",
    "    'token': 'CCE7A4B3518114769C553D5DAC5C7267',\n",
    "    'content': 'record',\n",
    "    'action': 'export',\n",
    "    'format': 'csv',\n",
    "    'type': 'flat',\n",
    "    'csvDelimiter': '',\n",
    "    'forms[0]': 'follow_up_visit_day_90',\n",
    "    'forms[1]': 'follow_up_visit_day_180',\n",
    "    'forms[2]': 'follow_up_visit_day_360',\n",
    "    'rawOrLabel': 'raw',\n",
    "    'rawOrLabelHeaders': 'raw',\n",
    "    'exportCheckboxLabel': 'false',\n",
    "    'exportSurveyFields': 'false',\n",
    "    'exportDataAccessGroups': 'false',\n",
    "    'returnFormat': 'json'\n",
    "}\n",
    "r = requests.post('https://redcapsvr2.ahri.gov.et/api/',data=data)\n",
    "print('HTTP Status: ' + str(r.status_code))\n",
    "data = pd.DataFrame(r)\n",
    "\n",
    "\n"
   ]
  },
  {
   "cell_type": "code",
   "execution_count": 13,
   "id": "9a84af2b-a131-4e64-b1c7-1baa04e2ee73",
   "metadata": {
    "tags": []
   },
   "outputs": [],
   "source": [
    "data.to_csv('my_data.csv')"
   ]
  },
  {
   "cell_type": "code",
   "execution_count": null,
   "id": "69160d50-d962-44f3-8697-7ca4373f397f",
   "metadata": {},
   "outputs": [],
   "source": []
  }
 ],
 "metadata": {
  "kernelspec": {
   "display_name": "Python 3 (ipykernel)",
   "language": "python",
   "name": "python3"
  },
  "language_info": {
   "codemirror_mode": {
    "name": "ipython",
    "version": 3
   },
   "file_extension": ".py",
   "mimetype": "text/x-python",
   "name": "python",
   "nbconvert_exporter": "python",
   "pygments_lexer": "ipython3",
   "version": "3.11.5"
  }
 },
 "nbformat": 4,
 "nbformat_minor": 5
}
