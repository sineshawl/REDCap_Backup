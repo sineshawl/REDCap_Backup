{
 "cells": [
  {
   "cell_type": "code",
   "execution_count": 1,
   "id": "d989ea73-0daf-4cfc-bd42-f84fe21d523e",
   "metadata": {
    "tags": []
   },
   "outputs": [
    {
     "data": {
      "text/plain": [
       "<module 'RedCap' from 'C:\\\\Users\\\\sinel\\\\Documents\\\\PythonProjects\\\\REDCap Backup\\\\RedCap.py'>"
      ]
     },
     "execution_count": 1,
     "metadata": {},
     "output_type": "execute_result"
    }
   ],
   "source": [
    "import RedCap\n",
    "from importlib import reload\n",
    "\n",
    "\n",
    "# This will reload the RedCap module when if there is change \n",
    "reload(RedCap)"
   ]
  },
  {
   "cell_type": "code",
   "execution_count": 2,
   "id": "02cecef7-f760-4dd3-9b09-5157215e5555",
   "metadata": {
    "tags": []
   },
   "outputs": [
    {
     "data": {
      "text/plain": [
       "16"
      ]
     },
     "execution_count": 2,
     "metadata": {},
     "output_type": "execute_result"
    }
   ],
   "source": [
    "import json\n",
    "my_tokens = None\n",
    "\n",
    "# Open the Json file for reading which contain API tokens \n",
    "with open('api_keys.json', mode = 'r') as file:\n",
    "    # Load the JSON data from file\n",
    "    my_tokens = json.load(file)\n",
    "len(my_tokens.items())"
   ]
  },
  {
   "cell_type": "markdown",
   "id": "193ea406-ac31-4010-858e-cabbf6fb4aba",
   "metadata": {
    "tags": []
   },
   "source": [
    "> ### <font color=#42f5c2>Summary count</font>\n"
   ]
  },
  {
   "cell_type": "code",
   "execution_count": 3,
   "id": "76ad94e3-ac38-4ea7-971f-5b48c76b1cb4",
   "metadata": {
    "jp-MarkdownHeadingCollapsed": true,
    "tags": []
   },
   "outputs": [
    {
     "name": "stdout",
     "output_type": "stream",
     "text": [
      "Project_Catagory                    Count \n",
      "________________________________________\n",
      "ACHIDES_RDT_Comparison :               18\n",
      "ACHIDES_Deletion_Surveillance_1 :      7\n",
      "ACHIDES_Deletion_Surveillance_2 :      11\n",
      "ACHIDES_Deletion_Surveillance_3 :      13\n",
      "ACHIDES_Deletion_Surveillance_4 :      5\n",
      "VISPA :                                3\n",
      "PvSTATEM :                             3\n",
      "TES2023 :                              3\n",
      "TES2021 :                              5\n",
      "tMDA_RCD :                             6\n",
      "EMAGEN :                               7\n",
      "Bioinformatics :                       2\n",
      "INDIE :                                10\n",
      "Urban_Malaria_1 :                      1\n",
      "Urban_Malaria_2 :                      5\n",
      "REDCap_8_11_5 :                        1\n"
     ]
    }
   ],
   "source": [
    "# Summary count of\n",
    "print(f'Project_Catagory {\" \"*18} Count \\n{\"_\"*40}')\n",
    "for key in my_tokens.keys():\n",
    "    print(f'{key} : {\" \"*(35-len(key))} {len(my_tokens[key])}')\n"
   ]
  },
  {
   "cell_type": "markdown",
   "id": "68134dee-7e90-4951-b2dd-90bd914fdcb1",
   "metadata": {
    "jp-MarkdownHeadingCollapsed": true,
    "tags": []
   },
   "source": [
    "> ### <font color=#42f5c2>Call projectName function to get RECap projects name using token</font>\n"
   ]
  },
  {
   "cell_type": "code",
   "execution_count": 4,
   "id": "385e4520-bc02-476d-b12e-43cc0ceaa25c",
   "metadata": {
    "tags": []
   },
   "outputs": [
    {
     "name": "stdout",
     "output_type": "stream",
     "text": [
      "dict_keys(['ACHIDES_RDT_Comparison', 'ACHIDES_Deletion_Surveillance_1', 'ACHIDES_Deletion_Surveillance_2', 'ACHIDES_Deletion_Surveillance_3', 'ACHIDES_Deletion_Surveillance_4', 'VISPA', 'PvSTATEM', 'TES2023', 'TES2021', 'tMDA_RCD', 'EMAGEN', 'Bioinformatics', 'INDIE', 'Urban_Malaria_1', 'Urban_Malaria_2', 'REDCap_8_11_5'])\n"
     ]
    }
   ],
   "source": [
    "# Import user defined module called 'REDCap'\n",
    "'''\n",
    "There is a function called \"project_name()\" \n",
    "It will take the API keys and loads the project name assigned to it\n",
    "'''\n",
    "from REDCap import project_name\n",
    "projects  = project_name(my_tokens)\n",
    "print(projects.keys())"
   ]
  },
  {
   "cell_type": "markdown",
   "id": "9d6696fe-cace-4dc0-b3a9-bf374ad47879",
   "metadata": {
    "jp-MarkdownHeadingCollapsed": true,
    "tags": []
   },
   "source": [
    "> ### <font color=#42f5c2>The  code below  takes user input of export format</font>\n",
    "> <ul>\n",
    "    <li>1 - CSV Data Raw</li>\n",
    "    <li>2 - CSV Data Label</li>\n",
    "    <li>3 - CSV Data Dictionary</li>\n",
    "    <li>4 - XML Metadata Only</li>\n",
    "    <li>5 - XML Metadata and Data</li>\n",
    "    <li>6 - All</li>\n",
    "</ul>\n"
   ]
  },
  {
   "cell_type": "code",
   "execution_count": 1,
   "id": "ba363be2-c856-4ffc-b75d-09bde15ffe5a",
   "metadata": {
    "tags": []
   },
   "outputs": [
    {
     "name": "stdout",
     "output_type": "stream",
     "text": [
      " Choose the Format of Data:\n",
      "                                           1 - CSV Data Raw\n",
      "                                           2 - CSV Data Label\n",
      "                                           3 - CSV Data Dictionary\n",
      "                                           4 - XML Metadata Only\n",
      "                                           5 - XML Metadata and Data\n",
      "                                           6 - All7\n",
      "Error: Input must be 1 upto 6\n",
      "1\n",
      "csv raw Selected\n"
     ]
    },
    {
     "data": {
      "text/plain": [
       "'csv raw'"
      ]
     },
     "execution_count": 1,
     "metadata": {},
     "output_type": "execute_result"
    }
   ],
   "source": [
    "import Exceptions\n",
    "input_message = ''' Choose the Format of Data:\n",
    "                                           1 - CSV Data Raw\n",
    "                                           2 - CSV Data Label\n",
    "                                           3 - CSV Data Dictionary\n",
    "                                           4 - XML Metadata Only\n",
    "                                           5 - XML Metadata and Data\n",
    "                                           6 - All'''\n",
    "format_list = {1:'csv raw', 2:'csv label', 3:'csv data dictionary', 4:'xml meta data', 5:'xml metadata and data', 6:'all'}\n",
    "\n",
    "\n",
    "\n",
    "\n",
    "\n",
    "export_format = None\n",
    "\n",
    "while True:\n",
    "    try:\n",
    "        export_format = input(input_message)\n",
    "        if not export_format.isdigit():\n",
    "            input_message = ''\n",
    "        export_format = int(export_format)\n",
    "        if export_format < 1 or export_format > 6:\n",
    "            input_message = ''\n",
    "            raise Exceptions.InputError()\n",
    "    except ValueError:\n",
    "        print('Error: Enter a valid selection')\n",
    "    except Exceptions.InputError as e:\n",
    "        print(f'Error: {e}')\n",
    "    else: \n",
    "        break\n",
    "\n",
    "print(f'{format_list[export_format]} Selected')\n",
    "export_format = format_list[export_format]\n",
    "export_format\n",
    "        "
   ]
  },
  {
   "cell_type": "markdown",
   "id": "1bb89d37-e6d3-4152-82c1-d3a431fded51",
   "metadata": {
    "jp-MarkdownHeadingCollapsed": true,
    "tags": []
   },
   "source": [
    "> ### <font color=#42f5c2>Creating Necessary Directories in Local Computer</font>\n"
   ]
  },
  {
   "cell_type": "code",
   "execution_count": 7,
   "id": "a2e1dca2-9e57-46e4-b7d6-98cd7c428919",
   "metadata": {
    "tags": []
   },
   "outputs": [
    {
     "name": "stdout",
     "output_type": "stream",
     "text": [
      "done\n"
     ]
    }
   ],
   "source": [
    "import os\n",
    "import requests\n",
    "import csv\n",
    "import re\n",
    "from datetime import date\n",
    "\n",
    "\n",
    "url = 'https://redcapsvr2.ahri.gov.et/api/'\n",
    "\n",
    "current_date = date.today().strftime('%B-%d-%Y')\n",
    "root = 'E:\\\\MNTD\\Backup\\\\'+current_date\n",
    "sub_root_1 = ''\n",
    "sub_root_2 = ''\n",
    "sub_root_3 = ''\n",
    "file_paths = dict()\n",
    "\n",
    "if not os.path.exists(root):\n",
    "    os.makedirs(root)\n",
    "os.chdir(root)\n",
    "\n",
    "for folder in projects.keys():\n",
    "    sub_root_1 = folder\n",
    "    if not os.path.exists(sub_root_1):\n",
    "        os.makedirs(sub_root_1)\n",
    "    for project, token in zip(projects[folder], my_tokens[folder]): \n",
    "        if re.findall(r'[\\/:?\"<>|]', project):\n",
    "              project = re.sub(r'[\\\\/:?\"<>|]','_',project)\n",
    "        # print(project)\n",
    "        sub_root_2 = sub_root_1 + '\\\\' + project.strip()\n",
    "               \n",
    "        if not os.path.exists(sub_root_2):   #create directory in local computer if it doesn't exist\n",
    "            os.makedirs(sub_root_2)\n",
    "        file_paths[token] = sub_root_2    \n",
    "\n",
    "\n",
    "print('done')"
   ]
  },
  {
   "cell_type": "code",
   "execution_count": 14,
   "id": "846cf923-5316-4d72-9174-ac9a8d8582bc",
   "metadata": {
    "tags": []
   },
   "outputs": [
    {
     "name": "stdout",
     "output_type": "stream",
     "text": [
      "CSV Data Raw 101 files saved successfully\n",
      "CSV Data Label 101 files saved successfully\n",
      "CSV Data Dictionary 101 files saved successfully\n",
      "XML Metadata Only 100 files saved successfully\n",
      "XML Metadata and Data 100 files saved successfully\n",
      "Summary : 503 Total files saved successfully\n"
     ]
    }
   ],
   "source": [
    "switch_format = {\n",
    "            'csv data raw' : csv_data_raw,\n",
    "            'csv data label' : csv_data_label,\n",
    "            'csv data dictionary': csv_data_dictionary,\n",
    "            'xml metadata only': xml_metadata_only,\n",
    "            'xml metadata and data' : xml_metadata_and_data,\n",
    "            'all': all_exporter\n",
    "}\n",
    "\n",
    "selected_format = switch_format.get(export_format)\n",
    "count = selected_format(file_paths)\n",
    "print(f'Summary: {count} Total files saved successfully')"
   ]
  },
  {
   "cell_type": "code",
   "execution_count": 8,
   "id": "a84df631-5529-4d43-9ce9-a6e0a7fb879d",
   "metadata": {
    "tags": []
   },
   "outputs": [],
   "source": [
    "def csv_data_raw(file_paths):\n",
    "    count = 0\n",
    "    with requests.Session() as session:\n",
    "        for token, file_path in file_paths.items():\n",
    "            #The base name of a path is the last component of the path\n",
    "            file_name = os.path.basename(file_path)\n",
    "            file_path = os.path.join(file_path, 'CSV Data Raw')\n",
    "            if not os.path.exists(file_path):\n",
    "                os.makedirs(file_path)\n",
    "\n",
    "            file_path = os.path.join(file_path, file_name)[:215] + '.csv'\n",
    "\n",
    "            data = {\n",
    "                'token': token,\n",
    "                'content': 'record',\n",
    "                'action': 'export',\n",
    "                'format': 'csv',\n",
    "                'type': 'flat',\n",
    "                'csvDelimiter': '',\n",
    "                'rawOrLabel': 'raw',\n",
    "                'rawOrLabelHeaders': 'raw',\n",
    "                'exportCheckboxLabel': 'false',\n",
    "                'exportSurveyFields': 'false',\n",
    "                'exportDataAccessGroups': 'false', \n",
    "                'returnFormat': 'json'\n",
    "            }\n",
    "            csv_data = session.post(url,data=data)\n",
    "\n",
    "            if csv_data.status_code == 200:   \n",
    "                with open(file_path, mode='wb') as file:\n",
    "                    file.write(csv_data.content)\n",
    "                    count += 1\n",
    "            else:\n",
    "                print(f'CSV Data Raw : {count} files Saved! \\n But Something Wrong with Loading {file_name}')\n",
    "                \n",
    "    print(f'CSV Data Raw: {count} files saved successfully')\n",
    "    return count"
   ]
  },
  {
   "cell_type": "code",
   "execution_count": 9,
   "id": "13ace49a-caa0-4e90-9067-d7685e3069db",
   "metadata": {
    "tags": []
   },
   "outputs": [],
   "source": [
    "def csv_data_label(file_paths):\n",
    "    count = 0\n",
    "    with requests.Session() as session:\n",
    "        for token, file_path in file_paths.items():\n",
    "            #The base name of a path is the last component of the path\n",
    "            file_name = os.path.basename(file_path)\n",
    "            file_path = os.path.join(file_path, 'CSV Data Label')\n",
    "            if not os.path.exists(file_path):\n",
    "                os.makedirs(file_path)\n",
    "\n",
    "            file_path = os.path.join(file_path, file_name)[:215] + '.csv'\n",
    "\n",
    "            data = {\n",
    "                'token': token,\n",
    "                'content': 'record',\n",
    "                'action': 'export',\n",
    "                'format': 'csv',\n",
    "                'type': 'flat',\n",
    "                'csvDelimiter': '',\n",
    "                'rawOrLabel': 'label',\n",
    "                'rawOrLabelHeaders': 'raw',\n",
    "                'exportCheckboxLabel': 'false',\n",
    "                'exportSurveyFields': 'false',\n",
    "                'exportDataAccessGroups': 'false', \n",
    "                'returnFormat': 'json'\n",
    "            }\n",
    "            csv_data = session.post(url,data=data)\n",
    "\n",
    "            if csv_data.status_code == 200:   \n",
    "                with open(file_path, mode='wb') as file:\n",
    "                    file.write(csv_data.content)\n",
    "                    count += 1\n",
    "            else:\n",
    "                print(f'CSV Data Label: {count} files Saved! \\n But Something Wrong with Loading {file_name}')\n",
    "                \n",
    "    print(f'CSV Data Label: {count} files saved successfully')\n",
    "    return count"
   ]
  },
  {
   "cell_type": "code",
   "execution_count": 10,
   "id": "d2ba5535-918e-4f48-8296-fa076673a887",
   "metadata": {
    "tags": []
   },
   "outputs": [],
   "source": [
    "def csv_data_dictionary(file_paths):\n",
    "    count = 0\n",
    "    with requests.Session() as session:\n",
    "        for token, file_path in file_paths.items():\n",
    "            #The base name of a path is the last component of the path\n",
    "            file_name = os.path.basename(file_path)\n",
    "            file_path = os.path.join(file_path, 'CSV Data Dictionary')\n",
    "            if not os.path.exists(file_path):\n",
    "                os.makedirs(file_path)\n",
    "\n",
    "            file_path = os.path.join(file_path, file_name)[:215] + '.csv'\n",
    "\n",
    "            data = {\n",
    "                'token': token,\n",
    "                'content': 'metadata',\n",
    "                'format': 'csv',\n",
    "                'returnFormat': 'csv'\n",
    "            }\n",
    "            csv_data = session.post(url,data=data)\n",
    "\n",
    "            if csv_data.status_code == 200:   \n",
    "                with open(file_path, mode='wb') as file:\n",
    "                    file.write(csv_data.content)\n",
    "                    count += 1\n",
    "            else:\n",
    "                print(f'CSV Data Dictionary: {count} files Saved! \\n But Something Wrong with Loading {file_name}')\n",
    "                \n",
    "    print(f'CSV Data Dictionary: {count} files saved successfully')\n",
    "    return count"
   ]
  },
  {
   "cell_type": "code",
   "execution_count": 11,
   "id": "cb6dc2fb-0893-4c19-abc1-70c95d1bb9e7",
   "metadata": {},
   "outputs": [],
   "source": [
    "def xml_metadata_only(file_path):\n",
    "    count = 0\n",
    "    with requests.Session() as session:\n",
    "        for token, file_path in file_paths.items():\n",
    "            #The base name of a path is the last component of the path\n",
    "            file_name = os.path.basename(file_path)\n",
    "            file_path = os.path.join(file_path, 'XML Metadata Only')\n",
    "            if not os.path.exists(file_path):\n",
    "                os.makedirs(file_path)\n",
    "\n",
    "            file_path = os.path.join(file_path, file_name)[:215] + '.xml'\n",
    "\n",
    "            data_config = {'token' : token,\n",
    "                          'content' : 'project_xml',\n",
    "                          'format' : 'xml',\n",
    "                          'returnMetadataOnly' : 'true',\n",
    "                          'exportFiles' : 'false',\n",
    "                          'exportSurveyFields' : 'false',\n",
    "                          'exportDataAccessGroups' : 'false',\n",
    "                          'returnFormat' : 'json'\n",
    "                            }\n",
    "            xml_data = session.post(url, data = data_config)\n",
    "\n",
    "            # write xml to local storage\n",
    "            if xml_data.status_code == 200:\n",
    "                with open(file_path, mode = 'wb') as file:\n",
    "                    file.write(xml_data.content)\n",
    "                    count += 1\n",
    "            else:\n",
    "                print(f'XML Metadata Only: {count} files Saved! \\n But Something Wrong with Loading {file_name}')\n",
    "                \n",
    "    print(f'XML Metadata Only: {count} files saved successfully')\n",
    "    return count\n",
    "     "
   ]
  },
  {
   "cell_type": "code",
   "execution_count": 12,
   "id": "77e846b1-142c-462c-ba16-a0343385742f",
   "metadata": {},
   "outputs": [],
   "source": [
    "def xml_metadata_and_data(file_path):\n",
    "    count = 0\n",
    "    with requests.Session() as session:\n",
    "        for token, file_path in file_paths.items():\n",
    "            #The base name of a path is the last component of the path\n",
    "            file_name = os.path.basename(file_path)\n",
    "            file_path = os.path.join(file_path, 'XML Metadata and Data')\n",
    "            if not os.path.exists(file_path):\n",
    "                os.makedirs(file_path)\n",
    "\n",
    "            file_path = os.path.join(file_path, file_name)[:215] + '.xml'\n",
    "\n",
    "            data_config = {'token' : token,\n",
    "              'content' : 'project_xml',\n",
    "              'format' : 'xml',\n",
    "              'returnMetadataOnly' : 'false',\n",
    "              'exportFiles' : 'false',\n",
    "              'exportSurveyFields' : 'false',\n",
    "              'exportDataAccessGroups' : 'false',\n",
    "              'returnFormat' : 'json'\n",
    "                }\n",
    "            xml_data = session.post(url, data = data_config)\n",
    "\n",
    "            # write xml to local storage\n",
    "            if xml_data.status_code == 200:\n",
    "                with open(file_path, mode = 'wb') as file:\n",
    "                    file.write(xml_data.content)\n",
    "                    count += 1\n",
    "            else:\n",
    "                print(f'XML Metadata and Data: {count} files Saved! \\n But Something Wrong with Loading {file_name}')\n",
    "                \n",
    "    print(f'XML Metadata and Data: {count} files saved successfully')\n",
    "    return count\n",
    "     "
   ]
  },
  {
   "cell_type": "code",
   "execution_count": 13,
   "id": "730798c4-1f52-456b-b62e-5b2e1fb0c836",
   "metadata": {},
   "outputs": [],
   "source": [
    "def all_exporter(file_path):\n",
    "    count  = csv_data_raw(file_path) + csv_data_label(file_path) + csv_data_dictionary(file_path) + xml_metadata_only(file_path) + xml_metadata_and_data(file_path)\n",
    "    return count"
   ]
  },
  {
   "cell_type": "code",
   "execution_count": null,
   "id": "e93fe60f-e7cc-4148-865f-b3fe5c28ac4a",
   "metadata": {},
   "outputs": [],
   "source": []
  }
 ],
 "metadata": {
  "kernelspec": {
   "display_name": "Python 3 (ipykernel)",
   "language": "python",
   "name": "python3"
  },
  "language_info": {
   "codemirror_mode": {
    "name": "ipython",
    "version": 3
   },
   "file_extension": ".py",
   "mimetype": "text/x-python",
   "name": "python",
   "nbconvert_exporter": "python",
   "pygments_lexer": "ipython3",
   "version": "3.11.5"
  }
 },
 "nbformat": 4,
 "nbformat_minor": 5
}
