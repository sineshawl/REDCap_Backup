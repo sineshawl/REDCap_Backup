{
 "cells": [
  {
   "cell_type": "code",
   "execution_count": 20,
   "id": "717eb4b1",
   "metadata": {},
   "outputs": [
    {
     "data": {
      "text/plain": [
       "{'ACHIDES_RDT_Comparison': ['1CAAC4F69A2C1A58EB1C35DA3C410204',\n",
       "  '7D396AC18878D01B819234B403333560',\n",
       "  '8D8C81DF12F2B218811E67ABA1A2CEA6',\n",
       "  'B1D70261D5D24A8C19F82D04F660E17E',\n",
       "  '76872991E3E7517C6F89102BD201A7F2',\n",
       "  '20BAB8B252A60B63456996B20F92E8FF',\n",
       "  '0F3A2120D2DB18B20084685AC5D55264',\n",
       "  '4875B03D097D60475C79DCFC53CE8EBA',\n",
       "  'A995DC296138BA31A0A1E058582BD129',\n",
       "  'F892DB5EBC135430F6839EBAA02A1017',\n",
       "  'FC0D8A331DAE66AA72EA537FF4F43CAA',\n",
       "  '841968247197D8BB2BC8F8DC85D8704A',\n",
       "  'DDE58B59251E8CF1F455B3E1A6F0B94F',\n",
       "  'AF7EAAE18D5FCD5B694474A162AEB877',\n",
       "  'DF1F549DE15AD9CC698424E1A907DD38',\n",
       "  '2478848931256C42F42FDBD62A25F611',\n",
       "  '9585A6B52D25DC72EDF054FDB8C7D674',\n",
       "  'FAD07B340AA79080C1DB80FB16E0D12B',\n",
       "  '96ECC7F58102DB0CD86BA1A349561099'],\n",
       " 'ACHIDES_Deletion_Surveillance_1': ['C74D4290825D6EB70BEB189DAB4AE4AF',\n",
       "  'AEE0B607FC8432E5567EBBBE76EF743E',\n",
       "  '8082921E542A3849B2DEB6B658581E1E',\n",
       "  '94C2CA0EDD0266E8256283046A954059',\n",
       "  '18D9A45B0806D3DE02D1AB824591E4E3',\n",
       "  '6D7B91178E1AA3B486414EAFF27A4380',\n",
       "  'AF7B71CE6D30213F4AAF147838F051CB'],\n",
       " 'ACHIDES_Deletion_Surveillance_2': ['0E333729F880651B6A5F37F1499B633B',\n",
       "  'C1BC3B7CA61406D80AAF2AF34F31F4EF',\n",
       "  '667DA198E29D550B79C383E0B569628F',\n",
       "  'B0F7CBF17E4939D6B60B741395EF8EB5',\n",
       "  'F8467E07AF3BDB6A95CFCE116AC78402',\n",
       "  '5A02BD76364471AFDF68C39E6570D435',\n",
       "  '27D5432171D452BC7731CB59AB705704',\n",
       "  '80A2EB279B25B5A9593DD7ECA167A4F3',\n",
       "  '8C0F424C4B8640202A52C4A38535671E',\n",
       "  'DAEB3FF46327AC0FC105E6659C91DBEC',\n",
       "  '34A96107CBF5E04E50700CFA2AD2935B',\n",
       "  '894885C69B1C66F60811020883DC1E9F',\n",
       "  '8E46F306A3A39CDC6B95A012AD5DBDBE',\n",
       "  'C9AB073C23B07892B52B20DAC6E0D869',\n",
       "  '8B06F9B250B724AD2017F979C75EAC73',\n",
       "  'CD7E20A665AC8E759AE06801D03E073E',\n",
       "  'A9EF4A5405AB342E2D12CB72CF04FD2C',\n",
       "  'F9C216D7C8FBF03EF3C418CFAD0C475D',\n",
       "  '28413D2BA5DEE69C06599BA2D51C2CA5'],\n",
       " 'ACHIDES_Deletion_Surveillance_3': ['4EDE1D27D1F8736C966F7AD3A667EAD5',\n",
       "  '3E639036348C36727E54A61B4C14BB36',\n",
       "  'D3B896BB97FDFC77772A5120EDD37512',\n",
       "  'AABBC93821994E8605A60AEE90AD04FA',\n",
       "  '7B12B20F3D2E534D205A26F3AFEDDA83',\n",
       "  'FB194D31172148D8F8E8A771C4E2F825',\n",
       "  '4E368E4169424EB71440E3746F65F2BD',\n",
       "  '4DCF525610534A69426E1B48D147A22F',\n",
       "  '40B7548AB81056D1733C84C2241825E5',\n",
       "  '88D49A5C2EBCA6B3353E590C28886FAE',\n",
       "  '079D41B7BC5A97FB0A7F6D0F71F958A7',\n",
       "  'EA798AF890A8E7FC8011CE33788B0ED5',\n",
       "  'ECE3C92394E210F3A07DE138AF788826',\n",
       "  '82FC6A9FDD20C32047A62AD43B87CF7A',\n",
       "  '6A53243BF602FF51EE459370B4530F99',\n",
       "  '149FE5FA104EFCD1918D5E271BD43E05',\n",
       "  '8FE1CA871729D5C079C646B0D643B708'],\n",
       " 'ACHIDES_Deletion_Surveillance_4': ['7D1AB79C4F7F2C7B98092BDD1009A0DD',\n",
       "  '2AB1D2B358F099430A3CC6FE96C69353',\n",
       "  '7D1AB79C4F7F2C7B98092BDD1009A0DD',\n",
       "  '2AB1D2B358F099430A3CC6FE96C69353',\n",
       "  'D53F6421B6EC35AC62CD6A1D230971EA',\n",
       "  '44FC9EAB3A27011AA4F2B55B9B2E6726',\n",
       "  '4B74DBAED8CBE13992CA19B4420AD686',\n",
       "  'D3CD763712EFC1F115E20C4A8F248A66',\n",
       "  'D1E33908CEE5B48E5F7F1AC198E19092',\n",
       "  '43DC779610E694B488611ACD3D48E983',\n",
       "  'F8F8A80BF9DD47B0BC4B3119F235B0E6',\n",
       "  '2646233072A23FE5104959B2EC4DD72C',\n",
       "  '7E8B808753C73AA534F5A92D48427DA1',\n",
       "  'B11999C0CE3E03798F5912CB99B1FDA2',\n",
       "  '0BF2F9C079723F0793223F99E9331BF8',\n",
       "  '5CB98BAFBA756805899DEF99520B0690'],\n",
       " 'VISPA': ['382FF1927148A7A6C19F0CA188BCD135',\n",
       "  '31663E907573AC2954287753CFFDD7EC',\n",
       "  '7DCFA8E010712141EEA37865F1F14FEF',\n",
       "  '6B1C5ED85F306B3D934EAC9C0B890E05',\n",
       "  '31A92069789321A8F72CA6A919D2DF35',\n",
       "  '7245204B818283FF053BAE30D7197C2C'],\n",
       " 'PvSTATEM': ['BD35D27FE7787A5E392785AB99D2E565',\n",
       "  '8FE7D9D9B4623DE2D9C6C1DDD39F9726',\n",
       "  'E85B022C4D4C4E284CAD6DE26ACFAE30',\n",
       "  '872CA2D5401A431B5AAC3D4D9AD07FA3',\n",
       "  '37D040E89688A56B1E1DB67506DB560D',\n",
       "  '48DD69EAF361CAD4CA7EAD726333BBF0'],\n",
       " 'TES2023 (1)': ['6025293C85ABC257E3534859A9D42AEE',\n",
       "  'A182AA78F1135A9D78CD78ED736C4052',\n",
       "  '81F2A228C3F258C2071BFA4D48DBA463',\n",
       "  'CB820DDD8078FE7CF179EAEEE1964C1D',\n",
       "  '0AB30BEA22F3CE1E9FEF4DCFC3008F51',\n",
       "  '6890D73F28393DCF75C32044D0C35C35',\n",
       "  '39178B1FC7CC3989872D59008CF7D955',\n",
       "  '0FDDF6A1B6E82D097BD16087502C81B7',\n",
       "  '8E1D646D3C6F9C825ADAC51CA89B9FC6'],\n",
       " 'TES2023 (2)': ['16B666E50A71FDBFECC3005DF907CDC8',\n",
       "  '5F1ED87747C1CE704A242FF2210C3992',\n",
       "  '5A116F29C0FAD8CBFBFB09F8A01FA4D0',\n",
       "  'EC1D80517D6827EEADE0DEB195E5571E'],\n",
       " 'TES2023 (3)': ['6D7E362A11862CA8062360E4F5FE3FE5',\n",
       "  '3277D74DC901CD430BB83B5A619E55C4',\n",
       "  '669A087AE28606F65B21F90BDC39FD62'],\n",
       " 'TES2021': ['F966C6C0E477A4B6964A3B7006362430',\n",
       "  'E0A541B8E0A6291F014CC4038DB7707D',\n",
       "  'F48FFD9176CAC511A32DB9D682DA0772',\n",
       "  '8454B65DC2F333D0F7942A45C909091F',\n",
       "  '26A7EB7D984A2F7AA7E1E901A21D194C'],\n",
       " 'HAMMS': ['64BFA82BE7D39473D502D4E76ACE7594',\n",
       "  'F31D073929E6C0F0664BBD3BAAC7A6EE',\n",
       "  'C56D637FB033FC7EA81619CA3AEA01AD',\n",
       "  'E40F30C8DDEC2F3022381C8FD3D1DAAD',\n",
       "  'BE023934E6C7842E59036FA9C1D10D63',\n",
       "  '4AEAF030F3006B19238CE4438122F3CA',\n",
       "  'A049D8DA3213998E42BC5AD8AACA4FF3'],\n",
       " 'tMDA_RCD': ['20FBDB12A056DC0805F6044F05258A5B',\n",
       "  '449B3EC5F9638D8748E0B0A9F5D424B5',\n",
       "  '7A4C874E09CAF102D93415F95AD4ADD1',\n",
       "  '30E0D8A4DA56295A759C440AD8929357',\n",
       "  '008DE1C92DD677C73FA5D1FC90CE8440',\n",
       "  '5E9060E83438B4B4AD0F73A4041EE822'],\n",
       " 'EMAGEN': ['5609E8929C22B2C8E3904B7BDAF9417F',\n",
       "  'A87DC6B58DB5385E080D469DD4EDE065',\n",
       "  'AAE3FC76E0D82780F23CAB1D67743CC1',\n",
       "  'F31C8DD3DA25C09B01C35B411B6AA155',\n",
       "  '19C7E15B5C8F2A3C9DA7464ECCA82160',\n",
       "  '325B19247FDA1AE7FD0C0322524B7EF6',\n",
       "  '9C423E9CD4C52DE7F3B218EBDAC63442',\n",
       "  '99373C4470B8373494D352B1CBA3F888'],\n",
       " 'Bioinformatics': ['C2EB94BA2986C987A5045F8F3C60F0DF',\n",
       "  '2205F516FF36D564FB2E2B09D7B70A6F'],\n",
       " 'INDIE1': ['220369D65142CD1D4C65604338F67340',\n",
       "  'C8624EA4FB1C1C684201CDE5ED206D33',\n",
       "  'A963E6C01A8393165C6AC441D7B86B65',\n",
       "  'BD4E4AD9840314326B0307BAEAF13EC0',\n",
       "  '2407822A3395D95C814085EBA387299A',\n",
       "  'ABAF811429AADD7A034BE4BFB215218C',\n",
       "  '13D45ECBD60615DCF4C4E53CD16EBCFE',\n",
       "  '2A0FA0B05E04C6920DB6EF2F264F4A34',\n",
       "  '97D7F7BF04FAB56E37D8BE9731527F61',\n",
       "  '7F13A4E3226A64D3FBF361191152E141'],\n",
       " 'INDIE2': ['ED37701E09D6853BCD465173E9CF2372',\n",
       "  '6638FF741CDC9EB7EF74FD4C0AA41BA2',\n",
       "  '750C923061397E7F50DDC315590699D8',\n",
       "  'DAE2EC0FA0E3FF1B04150F1B84875BD8',\n",
       "  '0DDCC49FD54FAE264407F4FAC1176FF1',\n",
       "  '2111BA9019498B99FF0E59E415B74F65',\n",
       "  'B3F32771E4E1DDE0117F75D81A2FBD90',\n",
       "  '1F87C5B41B1C53E0937EF01C26BB6C3E',\n",
       "  '446BB07B0DE63D6EEF6391AD6EF3F2F1'],\n",
       " 'Urban_Malaria_1': ['39F0B04EF9D86ABC29E1D8737F5E2C89'],\n",
       " 'Urban_Malaria_2': ['1CC32FC1E7AD537819B6D9F60D360113',\n",
       "  '994E3AF84A27799FCD8BD06194806F72',\n",
       "  '0794CB868C0AAB8A50ACFEB1A37332BF',\n",
       "  '44B3260188D98A1B306872EF6B08D1CE',\n",
       "  '4E1D04A540EBBFDAE351AFFFFF26CD83'],\n",
       " 'Urban_Malaria_3': ['7996283497DE13353D97CD5B103B0360',\n",
       "  '65971F1AE4FC37A89AC8416CF457E048',\n",
       "  '887789CFE3799033C20ACDB87F0B197D'],\n",
       " 'REDCap_8_11_5': ['6159263D1A704D5E95F46D9B7D3BA478']}"
      ]
     },
     "execution_count": 20,
     "metadata": {},
     "output_type": "execute_result"
    }
   ],
   "source": [
    "import json\n",
    "\n"
   ]
  },
  {
   "cell_type": "code",
   "execution_count": 1,
   "id": "d989ea73-0daf-4cfc-bd42-f84fe21d523e",
   "metadata": {
    "tags": []
   },
   "outputs": [
    {
     "data": {
      "text/plain": [
       "<module 'RedCap' from 'C:\\\\Users\\\\sinel\\\\Documents\\\\PythonProjects\\\\REDCap Backup\\\\RedCap.py'>"
      ]
     },
     "execution_count": 1,
     "metadata": {},
     "output_type": "execute_result"
    }
   ],
   "source": [
    "import RedCap\n",
    "from importlib import reload\n",
    "\n",
    "\n",
    "# This will reload the RedCap module when if there is change \n",
    "reload(RedCap)"
   ]
  },
  {
   "cell_type": "code",
   "execution_count": 2,
   "id": "02cecef7-f760-4dd3-9b09-5157215e5555",
   "metadata": {
    "tags": []
   },
   "outputs": [
    {
     "data": {
      "text/plain": [
       "16"
      ]
     },
     "execution_count": 2,
     "metadata": {},
     "output_type": "execute_result"
    }
   ],
   "source": [
    "import json\n",
    "my_tokens = None\n",
    "\n",
    "# Open the Json file for reading which contain API tokens \n",
    "with open('api_keys.json', mode = 'r') as file:\n",
    "    # Load the JSON data from file\n",
    "    my_tokens = json.load(file)\n",
    "len(my_tokens.items())"
   ]
  },
  {
   "cell_type": "markdown",
   "id": "193ea406-ac31-4010-858e-cabbf6fb4aba",
   "metadata": {
    "tags": []
   },
   "source": [
    "> ### <font color=#42f5c2>Summary count</font>\n"
   ]
  },
  {
   "cell_type": "code",
   "execution_count": 3,
   "id": "76ad94e3-ac38-4ea7-971f-5b48c76b1cb4",
   "metadata": {
    "jp-MarkdownHeadingCollapsed": true,
    "tags": []
   },
   "outputs": [
    {
     "name": "stdout",
     "output_type": "stream",
     "text": [
      "Project_Catagory                    Count \n",
      "________________________________________\n",
      "ACHIDES_RDT_Comparison :               18\n",
      "ACHIDES_Deletion_Surveillance_1 :      7\n",
      "ACHIDES_Deletion_Surveillance_2 :      11\n",
      "ACHIDES_Deletion_Surveillance_3 :      13\n",
      "ACHIDES_Deletion_Surveillance_4 :      5\n",
      "VISPA :                                3\n",
      "PvSTATEM :                             3\n",
      "TES2023 :                              3\n",
      "TES2021 :                              5\n",
      "tMDA_RCD :                             6\n",
      "EMAGEN :                               7\n",
      "Bioinformatics :                       2\n",
      "INDIE :                                10\n",
      "Urban_Malaria_1 :                      1\n",
      "Urban_Malaria_2 :                      5\n",
      "REDCap_8_11_5 :                        1\n"
     ]
    }
   ],
   "source": [
    "# Summary count of\n",
    "print(f'Project_Catagory {\" \"*18} Count \\n{\"_\"*40}')\n",
    "for key in my_tokens.keys():\n",
    "    print(f'{key} : {\" \"*(35-len(key))} {len(my_tokens[key])}')\n"
   ]
  },
  {
   "cell_type": "markdown",
   "id": "68134dee-7e90-4951-b2dd-90bd914fdcb1",
   "metadata": {
    "jp-MarkdownHeadingCollapsed": true,
    "tags": []
   },
   "source": [
    "> ### <font color=#42f5c2>Call projectName function to get RECap projects name using token</font>\n"
   ]
  },
  {
   "cell_type": "code",
   "execution_count": 4,
   "id": "385e4520-bc02-476d-b12e-43cc0ceaa25c",
   "metadata": {
    "tags": []
   },
   "outputs": [
    {
     "name": "stdout",
     "output_type": "stream",
     "text": [
      "dict_keys(['ACHIDES_RDT_Comparison', 'ACHIDES_Deletion_Surveillance_1', 'ACHIDES_Deletion_Surveillance_2', 'ACHIDES_Deletion_Surveillance_3', 'ACHIDES_Deletion_Surveillance_4', 'VISPA', 'PvSTATEM', 'TES2023', 'TES2021', 'tMDA_RCD', 'EMAGEN', 'Bioinformatics', 'INDIE', 'Urban_Malaria_1', 'Urban_Malaria_2', 'REDCap_8_11_5'])\n"
     ]
    }
   ],
   "source": [
    "# Import user defined module called 'REDCap'\n",
    "'''\n",
    "There is a function called \"project_name()\" \n",
    "It will take the API keys and loads the project name assigned to it\n",
    "'''\n",
    "from REDCap import project_name\n",
    "projects  = project_name(my_tokens)\n",
    "print(projects.keys())"
   ]
  },
  {
   "cell_type": "markdown",
   "id": "9d6696fe-cace-4dc0-b3a9-bf374ad47879",
   "metadata": {
    "jp-MarkdownHeadingCollapsed": true,
    "tags": []
   },
   "source": [
    "> ### <font color=#42f5c2>The  code below  takes user input of export format</font>\n",
    "> <ul>\n",
    "    <li>1 - CSV Data Raw</li>\n",
    "    <li>2 - CSV Data Label</li>\n",
    "    <li>3 - CSV Data Dictionary</li>\n",
    "    <li>4 - XML Metadata Only</li>\n",
    "    <li>5 - XML Metadata and Data</li>\n",
    "    <li>6 - All</li>\n",
    "</ul>\n"
   ]
  },
  {
   "cell_type": "code",
   "execution_count": 1,
   "id": "ba363be2-c856-4ffc-b75d-09bde15ffe5a",
   "metadata": {
    "tags": []
   },
   "outputs": [
    {
     "name": "stdout",
     "output_type": "stream",
     "text": [
      " Choose the Format of Data:\n",
      "                                           1 - CSV Data Raw\n",
      "                                           2 - CSV Data Label\n",
      "                                           3 - CSV Data Dictionary\n",
      "                                           4 - XML Metadata Only\n",
      "                                           5 - XML Metadata and Data\n",
      "                                           6 - All7\n",
      "Error: Input must be 1 upto 6\n",
      "1\n",
      "csv raw Selected\n"
     ]
    },
    {
     "data": {
      "text/plain": [
       "'csv raw'"
      ]
     },
     "execution_count": 1,
     "metadata": {},
     "output_type": "execute_result"
    }
   ],
   "source": [
    "import Exceptions\n",
    "input_message = ''' Choose the Format of Data:\n",
    "                                           1 - CSV Data Raw\n",
    "                                           2 - CSV Data Label\n",
    "                                           3 - CSV Data Dictionary\n",
    "                                           4 - XML Metadata Only\n",
    "                                           5 - XML Metadata and Data\n",
    "                                           6 - All'''\n",
    "format_list = {1:'csv raw', 2:'csv label', 3:'csv data dictionary', 4:'xml meta data', 5:'xml metadata and data', 6:'all'}\n",
    "\n",
    "\n",
    "\n",
    "\n",
    "\n",
    "export_format = None\n",
    "\n",
    "while True:\n",
    "    try:\n",
    "        export_format = input(input_message)\n",
    "        if not export_format.isdigit():\n",
    "            input_message = ''\n",
    "        export_format = int(export_format)\n",
    "        if export_format < 1 or export_format > 6:\n",
    "            input_message = ''\n",
    "            raise Exceptions.InputError()\n",
    "    except ValueError:\n",
    "        print('Error: Enter a valid selection')\n",
    "    except Exceptions.InputError as e:\n",
    "        print(f'Error: {e}')\n",
    "    else: \n",
    "        break\n",
    "\n",
    "print(f'{format_list[export_format]} Selected')\n",
    "export_format = format_list[export_format]\n",
    "export_format\n",
    "        "
   ]
  },
  {
   "cell_type": "markdown",
   "id": "1bb89d37-e6d3-4152-82c1-d3a431fded51",
   "metadata": {
    "jp-MarkdownHeadingCollapsed": true,
    "tags": []
   },
   "source": [
    "> ### <font color=#42f5c2>Creating Necessary Directories in Local Computer</font>\n"
   ]
  },
  {
   "cell_type": "code",
   "execution_count": 7,
   "id": "a2e1dca2-9e57-46e4-b7d6-98cd7c428919",
   "metadata": {
    "tags": []
   },
   "outputs": [
    {
     "name": "stdout",
     "output_type": "stream",
     "text": [
      "done\n"
     ]
    }
   ],
   "source": [
    "import os\n",
    "import requests\n",
    "import csv\n",
    "import re\n",
    "from datetime import date\n",
    "\n",
    "\n",
    "url = 'https://redcapsvr2.ahri.gov.et/api/'\n",
    "\n",
    "current_date = date.today().strftime('%B-%d-%Y')\n",
    "root = 'E:\\\\MNTD\\Backup\\\\'+current_date\n",
    "sub_root_1 = ''\n",
    "sub_root_2 = ''\n",
    "sub_root_3 = ''\n",
    "file_paths = dict()\n",
    "\n",
    "if not os.path.exists(root):\n",
    "    os.makedirs(root)\n",
    "os.chdir(root)\n",
    "\n",
    "for folder in projects.keys():\n",
    "    sub_root_1 = folder\n",
    "    if not os.path.exists(sub_root_1):\n",
    "        os.makedirs(sub_root_1)\n",
    "    for project, token in zip(projects[folder], my_tokens[folder]): \n",
    "        if re.findall(r'[\\/:?\"<>|]', project):\n",
    "              project = re.sub(r'[\\\\/:?\"<>|]','_',project)\n",
    "        # print(project)\n",
    "        sub_root_2 = sub_root_1 + '\\\\' + project.strip()\n",
    "               \n",
    "        if not os.path.exists(sub_root_2):   #create directory in local computer if it doesn't exist\n",
    "            os.makedirs(sub_root_2)\n",
    "        file_paths[token] = sub_root_2    \n",
    "\n",
    "\n",
    "print('done')"
   ]
  },
  {
   "cell_type": "code",
   "execution_count": 14,
   "id": "846cf923-5316-4d72-9174-ac9a8d8582bc",
   "metadata": {
    "tags": []
   },
   "outputs": [
    {
     "name": "stdout",
     "output_type": "stream",
     "text": [
      "CSV Data Raw 101 files saved successfully\n",
      "CSV Data Label 101 files saved successfully\n",
      "CSV Data Dictionary 101 files saved successfully\n",
      "XML Metadata Only 100 files saved successfully\n",
      "XML Metadata and Data 100 files saved successfully\n",
      "Summary : 503 Total files saved successfully\n"
     ]
    }
   ],
   "source": [
    "switch_format = {\n",
    "            'csv data raw' : csv_data_raw,\n",
    "            'csv data label' : csv_data_label,\n",
    "            'csv data dictionary': csv_data_dictionary,\n",
    "            'xml metadata only': xml_metadata_only,\n",
    "            'xml metadata and data' : xml_metadata_and_data,\n",
    "            'all': all_exporter\n",
    "}\n",
    "\n",
    "selected_format = switch_format.get(export_format)\n",
    "count = selected_format(file_paths)\n",
    "print(f'Summary: {count} Total files saved successfully')"
   ]
  },
  {
   "cell_type": "code",
   "execution_count": 8,
   "id": "a84df631-5529-4d43-9ce9-a6e0a7fb879d",
   "metadata": {
    "tags": []
   },
   "outputs": [],
   "source": [
    "def csv_data_raw(file_paths):\n",
    "    count = 0\n",
    "    with requests.Session() as session:\n",
    "        for token, file_path in file_paths.items():\n",
    "            #The base name of a path is the last component of the path\n",
    "            file_name = os.path.basename(file_path)\n",
    "            file_path = os.path.join(file_path, 'CSV Data Raw')\n",
    "            if not os.path.exists(file_path):\n",
    "                os.makedirs(file_path)\n",
    "\n",
    "            file_path = os.path.join(file_path, file_name)[:215] + '.csv'\n",
    "\n",
    "            data = {\n",
    "                'token': token,\n",
    "                'content': 'record',\n",
    "                'action': 'export',\n",
    "                'format': 'csv',\n",
    "                'type': 'flat',\n",
    "                'csvDelimiter': '',\n",
    "                'rawOrLabel': 'raw',\n",
    "                'rawOrLabelHeaders': 'raw',\n",
    "                'exportCheckboxLabel': 'false',\n",
    "                'exportSurveyFields': 'false',\n",
    "                'exportDataAccessGroups': 'false', \n",
    "                'returnFormat': 'json'\n",
    "            }\n",
    "            csv_data = session.post(url,data=data)\n",
    "\n",
    "            if csv_data.status_code == 200:   \n",
    "                with open(file_path, mode='wb') as file:\n",
    "                    file.write(csv_data.content)\n",
    "                    count += 1\n",
    "            else:\n",
    "                print(f'CSV Data Raw : {count} files Saved! \\n But Something Wrong with Loading {file_name}')\n",
    "                \n",
    "    print(f'CSV Data Raw: {count} files saved successfully')\n",
    "    return count"
   ]
  },
  {
   "cell_type": "code",
   "execution_count": 9,
   "id": "13ace49a-caa0-4e90-9067-d7685e3069db",
   "metadata": {
    "tags": []
   },
   "outputs": [],
   "source": [
    "def csv_data_label(file_paths):\n",
    "    count = 0\n",
    "    with requests.Session() as session:\n",
    "        for token, file_path in file_paths.items():\n",
    "            #The base name of a path is the last component of the path\n",
    "            file_name = os.path.basename(file_path)\n",
    "            file_path = os.path.join(file_path, 'CSV Data Label')\n",
    "            if not os.path.exists(file_path):\n",
    "                os.makedirs(file_path)\n",
    "\n",
    "            file_path = os.path.join(file_path, file_name)[:215] + '.csv'\n",
    "\n",
    "            data = {\n",
    "                'token': token,\n",
    "                'content': 'record',\n",
    "                'action': 'export',\n",
    "                'format': 'csv',\n",
    "                'type': 'flat',\n",
    "                'csvDelimiter': '',\n",
    "                'rawOrLabel': 'label',\n",
    "                'rawOrLabelHeaders': 'raw',\n",
    "                'exportCheckboxLabel': 'false',\n",
    "                'exportSurveyFields': 'false',\n",
    "                'exportDataAccessGroups': 'false', \n",
    "                'returnFormat': 'json'\n",
    "            }\n",
    "            csv_data = session.post(url,data=data)\n",
    "\n",
    "            if csv_data.status_code == 200:   \n",
    "                with open(file_path, mode='wb') as file:\n",
    "                    file.write(csv_data.content)\n",
    "                    count += 1\n",
    "            else:\n",
    "                print(f'CSV Data Label: {count} files Saved! \\n But Something Wrong with Loading {file_name}')\n",
    "                \n",
    "    print(f'CSV Data Label: {count} files saved successfully')\n",
    "    return count"
   ]
  },
  {
   "cell_type": "code",
   "execution_count": 10,
   "id": "d2ba5535-918e-4f48-8296-fa076673a887",
   "metadata": {
    "tags": []
   },
   "outputs": [],
   "source": [
    "def csv_data_dictionary(file_paths):\n",
    "    count = 0\n",
    "    with requests.Session() as session:\n",
    "        for token, file_path in file_paths.items():\n",
    "            #The base name of a path is the last component of the path\n",
    "            file_name = os.path.basename(file_path)\n",
    "            file_path = os.path.join(file_path, 'CSV Data Dictionary')\n",
    "            if not os.path.exists(file_path):\n",
    "                os.makedirs(file_path)\n",
    "\n",
    "            file_path = os.path.join(file_path, file_name)[:215] + '.csv'\n",
    "\n",
    "            data = {\n",
    "                'token': token,\n",
    "                'content': 'metadata',\n",
    "                'format': 'csv',\n",
    "                'returnFormat': 'csv'\n",
    "            }\n",
    "            csv_data = session.post(url,data=data)\n",
    "\n",
    "            if csv_data.status_code == 200:   \n",
    "                with open(file_path, mode='wb') as file:\n",
    "                    file.write(csv_data.content)\n",
    "                    count += 1\n",
    "            else:\n",
    "                print(f'CSV Data Dictionary: {count} files Saved! \\n But Something Wrong with Loading {file_name}')\n",
    "                \n",
    "    print(f'CSV Data Dictionary: {count} files saved successfully')\n",
    "    return count"
   ]
  },
  {
   "cell_type": "code",
   "execution_count": 11,
   "id": "cb6dc2fb-0893-4c19-abc1-70c95d1bb9e7",
   "metadata": {},
   "outputs": [],
   "source": [
    "def xml_metadata_only(file_path):\n",
    "    count = 0\n",
    "    with requests.Session() as session:\n",
    "        for token, file_path in file_paths.items():\n",
    "            #The base name of a path is the last component of the path\n",
    "            file_name = os.path.basename(file_path)\n",
    "            file_path = os.path.join(file_path, 'XML Metadata Only')\n",
    "            if not os.path.exists(file_path):\n",
    "                os.makedirs(file_path)\n",
    "\n",
    "            file_path = os.path.join(file_path, file_name)[:215] + '.xml'\n",
    "\n",
    "            data_config = {'token' : token,\n",
    "                          'content' : 'project_xml',\n",
    "                          'format' : 'xml',\n",
    "                          'returnMetadataOnly' : 'true',\n",
    "                          'exportFiles' : 'false',\n",
    "                          'exportSurveyFields' : 'false',\n",
    "                          'exportDataAccessGroups' : 'false',\n",
    "                          'returnFormat' : 'json'\n",
    "                            }\n",
    "            xml_data = session.post(url, data = data_config)\n",
    "\n",
    "            # write xml to local storage\n",
    "            if xml_data.status_code == 200:\n",
    "                with open(file_path, mode = 'wb') as file:\n",
    "                    file.write(xml_data.content)\n",
    "                    count += 1\n",
    "            else:\n",
    "                print(f'XML Metadata Only: {count} files Saved! \\n But Something Wrong with Loading {file_name}')\n",
    "                \n",
    "    print(f'XML Metadata Only: {count} files saved successfully')\n",
    "    return count\n",
    "     "
   ]
  },
  {
   "cell_type": "code",
   "execution_count": 12,
   "id": "77e846b1-142c-462c-ba16-a0343385742f",
   "metadata": {},
   "outputs": [],
   "source": [
    "def xml_metadata_and_data(file_path):\n",
    "    count = 0\n",
    "    with requests.Session() as session:\n",
    "        for token, file_path in file_paths.items():\n",
    "            #The base name of a path is the last component of the path\n",
    "            file_name = os.path.basename(file_path)\n",
    "            file_path = os.path.join(file_path, 'XML Metadata and Data')\n",
    "            if not os.path.exists(file_path):\n",
    "                os.makedirs(file_path)\n",
    "\n",
    "            file_path = os.path.join(file_path, file_name)[:215] + '.xml'\n",
    "\n",
    "            data_config = {'token' : token,\n",
    "              'content' : 'project_xml',\n",
    "              'format' : 'xml',\n",
    "              'returnMetadataOnly' : 'false',\n",
    "              'exportFiles' : 'false',\n",
    "              'exportSurveyFields' : 'false',\n",
    "              'exportDataAccessGroups' : 'false',\n",
    "              'returnFormat' : 'json'\n",
    "                }\n",
    "            xml_data = session.post(url, data = data_config)\n",
    "\n",
    "            # write xml to local storage\n",
    "            if xml_data.status_code == 200:\n",
    "                with open(file_path, mode = 'wb') as file:\n",
    "                    file.write(xml_data.content)\n",
    "                    count += 1\n",
    "            else:\n",
    "                print(f'XML Metadata and Data: {count} files Saved! \\n But Something Wrong with Loading {file_name}')\n",
    "                \n",
    "    print(f'XML Metadata and Data: {count} files saved successfully')\n",
    "    return count\n",
    "     "
   ]
  },
  {
   "cell_type": "code",
   "execution_count": 13,
   "id": "730798c4-1f52-456b-b62e-5b2e1fb0c836",
   "metadata": {},
   "outputs": [],
   "source": [
    "def all_exporter(file_path):\n",
    "    count  = csv_data_raw(file_path) + csv_data_label(file_path) + csv_data_dictionary(file_path) + xml_metadata_only(file_path) + xml_metadata_and_data(file_path)\n",
    "    return count"
   ]
  },
  {
   "cell_type": "code",
   "execution_count": null,
   "id": "e93fe60f-e7cc-4148-865f-b3fe5c28ac4a",
   "metadata": {},
   "outputs": [],
   "source": []
  }
 ],
 "metadata": {
  "kernelspec": {
   "display_name": "Python 3 (ipykernel)",
   "language": "python",
   "name": "python3"
  },
  "language_info": {
   "codemirror_mode": {
    "name": "ipython",
    "version": 3
   },
   "file_extension": ".py",
   "mimetype": "text/x-python",
   "name": "python",
   "nbconvert_exporter": "python",
   "pygments_lexer": "ipython3",
   "version": "3.11.5"
  }
 },
 "nbformat": 4,
 "nbformat_minor": 5
}
