{
 "cells": [
  {
   "cell_type": "code",
   "execution_count": 8,
   "id": "575b1919",
   "metadata": {},
   "outputs": [
    {
     "data": {
      "text/html": [
       "<div>\n",
       "<style scoped>\n",
       "    .dataframe tbody tr th:only-of-type {\n",
       "        vertical-align: middle;\n",
       "    }\n",
       "\n",
       "    .dataframe tbody tr th {\n",
       "        vertical-align: top;\n",
       "    }\n",
       "\n",
       "    .dataframe thead th {\n",
       "        text-align: right;\n",
       "    }\n",
       "</style>\n",
       "<table border=\"1\" class=\"dataframe\">\n",
       "  <thead>\n",
       "    <tr style=\"text-align: right;\">\n",
       "      <th></th>\n",
       "      <th>id_round</th>\n",
       "      <th>id</th>\n",
       "      <th>round</th>\n",
       "      <th>Eligible for genomics</th>\n",
       "      <th>pfct</th>\n",
       "      <th>pvct</th>\n",
       "      <th>sample_type</th>\n",
       "      <th>Total_infection_moments</th>\n",
       "      <th>total _recurence</th>\n",
       "      <th>date_bl</th>\n",
       "      <th>date_fl</th>\n",
       "      <th>age</th>\n",
       "      <th>age_category</th>\n",
       "      <th>gender</th>\n",
       "      <th>status</th>\n",
       "      <th>date_recurrence</th>\n",
       "    </tr>\n",
       "  </thead>\n",
       "  <tbody>\n",
       "    <tr>\n",
       "      <th>0</th>\n",
       "      <td>Sero-040-01</td>\n",
       "      <td>Sero-040</td>\n",
       "      <td>1</td>\n",
       "      <td>e</td>\n",
       "      <td>0.0</td>\n",
       "      <td>21.7</td>\n",
       "      <td>WB</td>\n",
       "      <td>4</td>\n",
       "      <td>2.0</td>\n",
       "      <td>12/16/2020</td>\n",
       "      <td>12/16/2020</td>\n",
       "      <td>15.0</td>\n",
       "      <td>10-15 years</td>\n",
       "      <td>Female</td>\n",
       "      <td>Recruitment</td>\n",
       "      <td>NaN</td>\n",
       "    </tr>\n",
       "    <tr>\n",
       "      <th>1</th>\n",
       "      <td>Sero-040-04</td>\n",
       "      <td>Sero-040</td>\n",
       "      <td>4</td>\n",
       "      <td>e</td>\n",
       "      <td>0.0</td>\n",
       "      <td>21.3</td>\n",
       "      <td>WB</td>\n",
       "      <td>4</td>\n",
       "      <td>2.0</td>\n",
       "      <td>12/16/2020</td>\n",
       "      <td>6/18/2021</td>\n",
       "      <td>NaN</td>\n",
       "      <td>NaN</td>\n",
       "      <td>NaN</td>\n",
       "      <td>Recurrence</td>\n",
       "      <td>19/03/2021</td>\n",
       "    </tr>\n",
       "    <tr>\n",
       "      <th>2</th>\n",
       "      <td>Sero-040-08</td>\n",
       "      <td>Sero-040</td>\n",
       "      <td>8</td>\n",
       "      <td>e</td>\n",
       "      <td>20.1</td>\n",
       "      <td>23.7</td>\n",
       "      <td>WB</td>\n",
       "      <td>4</td>\n",
       "      <td>2.0</td>\n",
       "      <td>12/21/2020</td>\n",
       "      <td>12/21/2020</td>\n",
       "      <td>NaN</td>\n",
       "      <td>NaN</td>\n",
       "      <td>NaN</td>\n",
       "      <td>Recurrence</td>\n",
       "      <td>15/07/2021</td>\n",
       "    </tr>\n",
       "    <tr>\n",
       "      <th>3</th>\n",
       "      <td>Sero-040-12</td>\n",
       "      <td>Sero-040</td>\n",
       "      <td>12</td>\n",
       "      <td>e</td>\n",
       "      <td>0.0</td>\n",
       "      <td>27.4</td>\n",
       "      <td>WB</td>\n",
       "      <td>4</td>\n",
       "      <td>NaN</td>\n",
       "      <td>12/21/2020</td>\n",
       "      <td>1/21/2021</td>\n",
       "      <td>NaN</td>\n",
       "      <td>NaN</td>\n",
       "      <td>NaN</td>\n",
       "      <td>Recurrence</td>\n",
       "      <td>19/10/2021</td>\n",
       "    </tr>\n",
       "    <tr>\n",
       "      <th>4</th>\n",
       "      <td>Sero-040-14</td>\n",
       "      <td>Sero-040</td>\n",
       "      <td>14</td>\n",
       "      <td>e</td>\n",
       "      <td>0.0</td>\n",
       "      <td>31.5</td>\n",
       "      <td>WB</td>\n",
       "      <td>4</td>\n",
       "      <td>NaN</td>\n",
       "      <td>12/21/2020</td>\n",
       "      <td>2/21/2021</td>\n",
       "      <td>NaN</td>\n",
       "      <td>NaN</td>\n",
       "      <td>NaN</td>\n",
       "      <td>Follow-up</td>\n",
       "      <td>NaN</td>\n",
       "    </tr>\n",
       "  </tbody>\n",
       "</table>\n",
       "</div>"
      ],
      "text/plain": [
       "      id_round        id  round Eligible for genomics  pfct  pvct sample_type  \\\n",
       "0  Sero-040-01  Sero-040      1                     e   0.0  21.7          WB   \n",
       "1  Sero-040-04  Sero-040      4                     e   0.0  21.3          WB   \n",
       "2  Sero-040-08  Sero-040      8                     e  20.1  23.7          WB   \n",
       "3  Sero-040-12  Sero-040     12                     e   0.0  27.4          WB   \n",
       "4  Sero-040-14  Sero-040     14                     e   0.0  31.5          WB   \n",
       "\n",
       "   Total_infection_moments  total _recurence     date_bl     date_fl   age  \\\n",
       "0                        4               2.0  12/16/2020  12/16/2020  15.0   \n",
       "1                        4               2.0  12/16/2020   6/18/2021   NaN   \n",
       "2                        4               2.0  12/21/2020  12/21/2020   NaN   \n",
       "3                        4               NaN  12/21/2020   1/21/2021   NaN   \n",
       "4                        4               NaN  12/21/2020   2/21/2021   NaN   \n",
       "\n",
       "  age_category  gender       status date_recurrence  \n",
       "0  10-15 years  Female  Recruitment             NaN  \n",
       "1          NaN     NaN   Recurrence      19/03/2021  \n",
       "2          NaN     NaN   Recurrence      15/07/2021  \n",
       "3          NaN     NaN   Recurrence      19/10/2021  \n",
       "4          NaN     NaN    Follow-up             NaN  "
      ]
     },
     "execution_count": 8,
     "metadata": {},
     "output_type": "execute_result"
    }
   ],
   "source": [
    "import pandas as pd\n",
    "\n",
    "mydata = pd.read_csv('Vivax_Inventory.csv')\n",
    "mydata.head()"
   ]
  },
  {
   "cell_type": "code",
   "execution_count": null,
   "id": "a543cd6f",
   "metadata": {},
   "outputs": [],
   "source": []
  },
  {
   "cell_type": "code",
   "execution_count": 9,
   "id": "95dcdd9f",
   "metadata": {},
   "outputs": [],
   "source": [
    "mydata.sort_values(by='round', inplace=True)"
   ]
  },
  {
   "cell_type": "code",
   "execution_count": 12,
   "id": "71fd3c45",
   "metadata": {},
   "outputs": [
    {
     "name": "stdout",
     "output_type": "stream",
     "text": [
      "12\n",
      "373\n"
     ]
    }
   ],
   "source": [
    "\n",
    "round_lists = { \"R1_to_R3\": [],\n",
    "    \"R3_to_R4\": [],\n",
    "    \"R4_to_R5\": [],\n",
    "    \"R5_to_R6\": [],\n",
    "    \"R6_to_R7\": [],\n",
    "    \"R7_to_R8\": [],\n",
    "    \"R8_to_R9\": [],\n",
    "    \"R9_to_R10\": [],\n",
    "    \"R10_to_R11\": [],\n",
    "    \"R11_to_R12\": [],\n",
    "    \"R12_to_R13\": [],\n",
    "    \"R13_to_R14\": [],\n",
    "    \"R14_to_R15\": []  }\n",
    "rounds = [1, 3, 4, 5, 6, 7, 8, 9, 10, 11, 12, 13, 14, 15]\n",
    "r_lists = []\n",
    "id_list = []\n",
    "count = 0 \n",
    "for i, round, keys in zip(range(len(rounds)), rounds, round_lists.keys()):\n",
    "    \n",
    "    for prev_round in mydata.loc[mydata['round'] == rounds[i], 'id'].tolist():\n",
    "        count +=1\n",
    "        id_list.append(prev_round)\n",
    "\n",
    "        if prev_round in  mydata.loc[mydata['round'] == rounds[i+1], 'id'].tolist():\n",
    "            round_lists[keys].append(keys)\n",
    "            r_lists.append('Pass')\n",
    "        else:\n",
    "            r_lists.append('Not Pass')\n",
    "            round_lists[keys].append('Not Pass')\n",
    "\n",
    "    # for j, round3 in mydata[mydata['round'] == 3].iterrows():\n",
    "    #     if round1['id'] in \n",
    "print(i)\n",
    "print(count)"
   ]
  },
  {
   "cell_type": "code",
   "execution_count": 6,
   "id": "25ecbcdf",
   "metadata": {},
   "outputs": [
    {
     "data": {
      "text/plain": [
       "373"
      ]
     },
     "execution_count": 6,
     "metadata": {},
     "output_type": "execute_result"
    }
   ],
   "source": [
    "len(r_lists)"
   ]
  },
  {
   "cell_type": "code",
   "execution_count": 14,
   "id": "e1fb33cc",
   "metadata": {},
   "outputs": [
    {
     "data": {
      "text/plain": [
       "[10, 4, 10, 8, 3, 5, 2, 3, 3, 4, 1, 1, 0]"
      ]
     },
     "execution_count": 14,
     "metadata": {},
     "output_type": "execute_result"
    }
   ],
   "source": [
    "pass_count = {}\n",
    "for key in round_lists.keys():\n",
    "    pass_count[key] = round_lists[key].count(key)\n",
    "\n",
    "pass_count.values()\n",
    "pass_count = list(pass_count.values())\n",
    "pass_count"
   ]
  },
  {
   "cell_type": "code",
   "execution_count": 15,
   "id": "38b96ccf",
   "metadata": {},
   "outputs": [
    {
     "data": {
      "text/plain": [
       "[0, 10, 4, 10, 8, 3, 5, 2, 3, 3, 4, 1, 1, 0, 0]"
      ]
     },
     "execution_count": 15,
     "metadata": {},
     "output_type": "execute_result"
    }
   ],
   "source": [
    "pass_count= [0] + pass_count + [0]\n",
    "pass_count"
   ]
  },
  {
   "cell_type": "code",
   "execution_count": 13,
   "id": "6b117f8e",
   "metadata": {},
   "outputs": [
    {
     "ename": "NameError",
     "evalue": "name 'pass_count' is not defined",
     "output_type": "error",
     "traceback": [
      "\u001b[1;31m---------------------------------------------------------------------------\u001b[0m",
      "\u001b[1;31mNameError\u001b[0m                                 Traceback (most recent call last)",
      "Cell \u001b[1;32mIn[13], line 10\u001b[0m\n\u001b[0;32m      8\u001b[0m     \u001b[38;5;28;01melse\u001b[39;00m:\n\u001b[0;32m      9\u001b[0m         r_holder\u001b[38;5;241m.\u001b[39mappend(r)\n\u001b[1;32m---> 10\u001b[0m         holdd\u001b[38;5;241m.\u001b[39mappend(pass_count[count])\n\u001b[0;32m     11\u001b[0m         count \u001b[38;5;241m+\u001b[39m\u001b[38;5;241m=\u001b[39m\u001b[38;5;241m1\u001b[39m \n\u001b[0;32m     12\u001b[0m holdd\n",
      "\u001b[1;31mNameError\u001b[0m: name 'pass_count' is not defined"
     ]
    }
   ],
   "source": [
    "holdd = []\n",
    "r_holder = []\n",
    "count = 0\n",
    "for r in mydata['round']:\n",
    "    if r in r_holder:\n",
    "        r_holder.append(r)\n",
    "        holdd.append('None')\n",
    "    else:\n",
    "        r_holder.append(r)\n",
    "        holdd.append(pass_count[count])\n",
    "        count +=1 \n",
    "holdd\n",
    "\n",
    "count"
   ]
  },
  {
   "cell_type": "code",
   "execution_count": 17,
   "id": "f87c4581",
   "metadata": {},
   "outputs": [
    {
     "ename": "ValueError",
     "evalue": "Length of values (373) does not match length of index (376)",
     "output_type": "error",
     "traceback": [
      "\u001b[1;31m---------------------------------------------------------------------------\u001b[0m",
      "\u001b[1;31mValueError\u001b[0m                                Traceback (most recent call last)",
      "Cell \u001b[1;32mIn[17], line 3\u001b[0m\n\u001b[0;32m      1\u001b[0m new_data \u001b[38;5;241m=\u001b[39m mydata\n\u001b[0;32m      2\u001b[0m \u001b[38;5;66;03m# new_data['count'] = holdd \u001b[39;00m\n\u001b[1;32m----> 3\u001b[0m new_data[\u001b[38;5;124m'\u001b[39m\u001b[38;5;124mr_lists2\u001b[39m\u001b[38;5;124m'\u001b[39m] \u001b[38;5;241m=\u001b[39m r_lists\n",
      "File \u001b[1;32mc:\\Users\\sinel\\anaconda3\\Lib\\site-packages\\pandas\\core\\frame.py:3950\u001b[0m, in \u001b[0;36mDataFrame.__setitem__\u001b[1;34m(self, key, value)\u001b[0m\n\u001b[0;32m   3947\u001b[0m     \u001b[38;5;28mself\u001b[39m\u001b[38;5;241m.\u001b[39m_setitem_array([key], value)\n\u001b[0;32m   3948\u001b[0m \u001b[38;5;28;01melse\u001b[39;00m:\n\u001b[0;32m   3949\u001b[0m     \u001b[38;5;66;03m# set column\u001b[39;00m\n\u001b[1;32m-> 3950\u001b[0m     \u001b[38;5;28mself\u001b[39m\u001b[38;5;241m.\u001b[39m_set_item(key, value)\n",
      "File \u001b[1;32mc:\\Users\\sinel\\anaconda3\\Lib\\site-packages\\pandas\\core\\frame.py:4143\u001b[0m, in \u001b[0;36mDataFrame._set_item\u001b[1;34m(self, key, value)\u001b[0m\n\u001b[0;32m   4133\u001b[0m \u001b[38;5;28;01mdef\u001b[39;00m \u001b[38;5;21m_set_item\u001b[39m(\u001b[38;5;28mself\u001b[39m, key, value) \u001b[38;5;241m-\u001b[39m\u001b[38;5;241m>\u001b[39m \u001b[38;5;28;01mNone\u001b[39;00m:\n\u001b[0;32m   4134\u001b[0m \u001b[38;5;250m    \u001b[39m\u001b[38;5;124;03m\"\"\"\u001b[39;00m\n\u001b[0;32m   4135\u001b[0m \u001b[38;5;124;03m    Add series to DataFrame in specified column.\u001b[39;00m\n\u001b[0;32m   4136\u001b[0m \n\u001b[1;32m   (...)\u001b[0m\n\u001b[0;32m   4141\u001b[0m \u001b[38;5;124;03m    ensure homogeneity.\u001b[39;00m\n\u001b[0;32m   4142\u001b[0m \u001b[38;5;124;03m    \"\"\"\u001b[39;00m\n\u001b[1;32m-> 4143\u001b[0m     value \u001b[38;5;241m=\u001b[39m \u001b[38;5;28mself\u001b[39m\u001b[38;5;241m.\u001b[39m_sanitize_column(value)\n\u001b[0;32m   4145\u001b[0m     \u001b[38;5;28;01mif\u001b[39;00m (\n\u001b[0;32m   4146\u001b[0m         key \u001b[38;5;129;01min\u001b[39;00m \u001b[38;5;28mself\u001b[39m\u001b[38;5;241m.\u001b[39mcolumns\n\u001b[0;32m   4147\u001b[0m         \u001b[38;5;129;01mand\u001b[39;00m value\u001b[38;5;241m.\u001b[39mndim \u001b[38;5;241m==\u001b[39m \u001b[38;5;241m1\u001b[39m\n\u001b[0;32m   4148\u001b[0m         \u001b[38;5;129;01mand\u001b[39;00m \u001b[38;5;129;01mnot\u001b[39;00m is_extension_array_dtype(value)\n\u001b[0;32m   4149\u001b[0m     ):\n\u001b[0;32m   4150\u001b[0m         \u001b[38;5;66;03m# broadcast across multiple columns if necessary\u001b[39;00m\n\u001b[0;32m   4151\u001b[0m         \u001b[38;5;28;01mif\u001b[39;00m \u001b[38;5;129;01mnot\u001b[39;00m \u001b[38;5;28mself\u001b[39m\u001b[38;5;241m.\u001b[39mcolumns\u001b[38;5;241m.\u001b[39mis_unique \u001b[38;5;129;01mor\u001b[39;00m \u001b[38;5;28misinstance\u001b[39m(\u001b[38;5;28mself\u001b[39m\u001b[38;5;241m.\u001b[39mcolumns, MultiIndex):\n",
      "File \u001b[1;32mc:\\Users\\sinel\\anaconda3\\Lib\\site-packages\\pandas\\core\\frame.py:4870\u001b[0m, in \u001b[0;36mDataFrame._sanitize_column\u001b[1;34m(self, value)\u001b[0m\n\u001b[0;32m   4867\u001b[0m     \u001b[38;5;28;01mreturn\u001b[39;00m _reindex_for_setitem(Series(value), \u001b[38;5;28mself\u001b[39m\u001b[38;5;241m.\u001b[39mindex)\n\u001b[0;32m   4869\u001b[0m \u001b[38;5;28;01mif\u001b[39;00m is_list_like(value):\n\u001b[1;32m-> 4870\u001b[0m     com\u001b[38;5;241m.\u001b[39mrequire_length_match(value, \u001b[38;5;28mself\u001b[39m\u001b[38;5;241m.\u001b[39mindex)\n\u001b[0;32m   4871\u001b[0m \u001b[38;5;28;01mreturn\u001b[39;00m sanitize_array(value, \u001b[38;5;28mself\u001b[39m\u001b[38;5;241m.\u001b[39mindex, copy\u001b[38;5;241m=\u001b[39m\u001b[38;5;28;01mTrue\u001b[39;00m, allow_2d\u001b[38;5;241m=\u001b[39m\u001b[38;5;28;01mTrue\u001b[39;00m)\n",
      "File \u001b[1;32mc:\\Users\\sinel\\anaconda3\\Lib\\site-packages\\pandas\\core\\common.py:576\u001b[0m, in \u001b[0;36mrequire_length_match\u001b[1;34m(data, index)\u001b[0m\n\u001b[0;32m    572\u001b[0m \u001b[38;5;250m\u001b[39m\u001b[38;5;124;03m\"\"\"\u001b[39;00m\n\u001b[0;32m    573\u001b[0m \u001b[38;5;124;03mCheck the length of data matches the length of the index.\u001b[39;00m\n\u001b[0;32m    574\u001b[0m \u001b[38;5;124;03m\"\"\"\u001b[39;00m\n\u001b[0;32m    575\u001b[0m \u001b[38;5;28;01mif\u001b[39;00m \u001b[38;5;28mlen\u001b[39m(data) \u001b[38;5;241m!=\u001b[39m \u001b[38;5;28mlen\u001b[39m(index):\n\u001b[1;32m--> 576\u001b[0m     \u001b[38;5;28;01mraise\u001b[39;00m \u001b[38;5;167;01mValueError\u001b[39;00m(\n\u001b[0;32m    577\u001b[0m         \u001b[38;5;124m\"\u001b[39m\u001b[38;5;124mLength of values \u001b[39m\u001b[38;5;124m\"\u001b[39m\n\u001b[0;32m    578\u001b[0m         \u001b[38;5;124mf\u001b[39m\u001b[38;5;124m\"\u001b[39m\u001b[38;5;124m(\u001b[39m\u001b[38;5;132;01m{\u001b[39;00m\u001b[38;5;28mlen\u001b[39m(data)\u001b[38;5;132;01m}\u001b[39;00m\u001b[38;5;124m) \u001b[39m\u001b[38;5;124m\"\u001b[39m\n\u001b[0;32m    579\u001b[0m         \u001b[38;5;124m\"\u001b[39m\u001b[38;5;124mdoes not match length of index \u001b[39m\u001b[38;5;124m\"\u001b[39m\n\u001b[0;32m    580\u001b[0m         \u001b[38;5;124mf\u001b[39m\u001b[38;5;124m\"\u001b[39m\u001b[38;5;124m(\u001b[39m\u001b[38;5;132;01m{\u001b[39;00m\u001b[38;5;28mlen\u001b[39m(index)\u001b[38;5;132;01m}\u001b[39;00m\u001b[38;5;124m)\u001b[39m\u001b[38;5;124m\"\u001b[39m\n\u001b[0;32m    581\u001b[0m     )\n",
      "\u001b[1;31mValueError\u001b[0m: Length of values (373) does not match length of index (376)"
     ]
    }
   ],
   "source": [
    "new_data = mydata\n",
    "# new_data['count'] = holdd \n",
    "new_data['r_lists2'] = r_lists"
   ]
  },
  {
   "cell_type": "code",
   "execution_count": 128,
   "id": "9b89335c",
   "metadata": {},
   "outputs": [],
   "source": [
    "new_data.to_csv('D:\\Educational\\Thesis Work\\indie_new_data.csv')"
   ]
  },
  {
   "cell_type": "code",
   "execution_count": null,
   "id": "e0c696e5",
   "metadata": {},
   "outputs": [],
   "source": [
    "mydata['round'].unique()"
   ]
  },
  {
   "cell_type": "code",
   "execution_count": null,
   "id": "5d2386d9",
   "metadata": {},
   "outputs": [],
   "source": [
    "count_of_round = mydata['round'].value_counts()\n",
    "count_of_round = list(count_of_round.values)\n",
    "count_of_round"
   ]
  },
  {
   "cell_type": "code",
   "execution_count": 138,
   "id": "750342e2",
   "metadata": {},
   "outputs": [
    {
     "data": {
      "image/png": "[encoded data removed]",
      "text/plain": [
       "<Figure size 640x480 with 1 Axes>"
      ]
     },
     "metadata": {},
     "output_type": "display_data"
    }
   ],
   "source": [
    "import matplotlib.pyplot as plt\n",
    "import numpy as np\n",
    "\n",
    "# Updated sample data to ensure consistency\n",
    "rounds = [1, 3, 4, 5, 6, 7, 8, 9, 10, 11, 12, 13, 14, 15]\n",
    "\n",
    "categories = [f'R {i}' for i in rounds]  # Create a list of categories\n",
    "count_of_round = [125, 10, 50, 40, 31, 18, 31, 11, 14, 11, 13, 5, 14, 3]\n",
    "pass_count = [0, 10, 4, 10, 8, 3, 5, 2, 3, 3, 4, 1, 1, 0]  # Ensure same length as count_of_round\n",
    "\n",
    "# Set the width and positions of the bars\n",
    "x = np.arange(len(categories))\n",
    "\n",
    "# Create the bar plot\n",
    "plt.bar(x, count_of_round, label='Count of Round')\n",
    "plt.bar(x, pass_count, bottom=count_of_round, label='Samples from Previous Round')  # Stacked on top of count_of_round\n",
    "\n",
    "# Add values on top of the pass_count bars\n",
    "for i in range(len(x)):\n",
    "    plt.text(x[i], count_of_round[i] + pass_count[i] + 1,  # Position the text above the pass_count segment\n",
    "             str(pass_count[i]), ha='center', va='bottom', fontsize=8, color='black')\n",
    "\n",
    "# Add labels and title\n",
    "plt.xlabel('Rounds')\n",
    "plt.ylabel('Counts')\n",
    "plt.title('Number of Samples per Round')\n",
    "plt.xticks(ticks=x, labels=categories, rotation=45)  # Set x-axis labels and rotate for readability\n",
    "plt.legend()  # Show legend\n",
    "\n",
    "# Show the plot\n",
    "plt.tight_layout()  # Adjust layout\n",
    "\n",
    "plt.savefig('stacked_bar_plot.png', format='png', dpi=300)  # Save with 300 dpi for high quality\n",
    "plt.show()\n"
   ]
  },
  {
   "cell_type": "code",
   "execution_count": 21,
   "metadata": {},
   "outputs": [
    {
     "data": {
      "image/png": "[encoded data removed]",
      "text/plain": [
       "<Figure size 640x480 with 1 Axes>"
      ]
     },
     "metadata": {},
     "output_type": "display_data"
    }
   ],
   "source": [
    "\n"
   ]
  },
  {
   "cell_type": "code",
   "execution_count": 22,
   "id": "d22a3218",
   "metadata": {},
   "outputs": [
    {
     "data": {
      "image/png": "[encoded data removed]",
      "text/plain": [
       "<Figure size 640x480 with 1 Axes>"
      ]
     },
     "metadata": {},
     "output_type": "display_data"
    }
   ],
   "source": [
    "import numpy as np\n",
    "import matplotlib.pyplot as plt\n",
    "\n",
    "# Define the range of x values\n",
    "x = np.linspace(-10, 10, 400)\n",
    "\n",
    "# Define the mathematical functions\n",
    "y1 = np.sin(x)          # Sine function\n",
    "y2 = np.cos(x)          # Cosine function\n",
    "y3 = x**2 - 10          # Quadratic function (may have negative values)\n",
    "\n",
    "# Create the plot\n",
    "plt.plot(x, y1, label='y = sin(x)', color='b')\n",
    "plt.plot(x, y2, label='y = cos(x)', color='r')\n",
    "plt.plot(x, y3, label='y = x^2 - 10', color='g')\n",
    "\n",
    "# Add title and labels\n",
    "plt.title('Mathematical Functions Plot')\n",
    "plt.xlabel('X-axis')\n",
    "plt.ylabel('Y-axis')\n",
    "\n",
    "# Add a legend\n",
    "plt.legend()\n",
    "\n",
    "# Add a grid for better readability\n",
    "plt.grid()\n",
    "\n",
    "# Set the limits for y-axis to better see negative values\n",
    "plt.ylim(-15, 15)\n",
    "\n",
    "# Show the plot\n",
    "plt.show()"
   ]
  },
  {
   "cell_type": "code",
   "execution_count": 19,
   "metadata": {},
   "outputs": [
    {
     "data": {
      "text/plain": [
       "[<matplotlib.lines.Line2D at 0x1e11d0cdb50>]"
      ]
     },
     "execution_count": 19,
     "metadata": {},
     "output_type": "execute_result"
    },
    {
     "data": {
      "image/png": "[encoded data removed]",
      "text/plain": [
       "<Figure size 640x480 with 1 Axes>"
      ]
     },
     "metadata": {},
     "output_type": "display_data"
    }
   ],
   "source": [
    "import matplotlib.pyplot as plt\n",
    "\n",
    "plt.plot([7,0], [0, 21])\n",
    "plt.plot([-9,0], [0, 4.5])"
   ]
  },
  {
   "cell_type": "code",
   "execution_count": null,
   "metadata": {},
   "outputs": [],
   "source": []
  },
  {
   "cell_type": "code",
   "execution_count": null,
   "metadata": {},
   "outputs": [],
   "source": []
  },
  {
   "cell_type": "code",
   "execution_count": null,
   "metadata": {},
   "outputs": [],
   "source": []
  },
  {
   "cell_type": "code",
   "execution_count": null,
   "metadata": {},
   "outputs": [],
   "source": []
  },
  {
   "cell_type": "code",
   "execution_count": null,
   "metadata": {},
   "outputs": [],
   "source": []
  },
  {
   "cell_type": "code",
   "execution_count": null,
   "id": "c5027e1d",
   "metadata": {},
   "outputs": [],
   "source": []
  },
  {
   "cell_type": "code",
   "execution_count": null,
   "id": "6ddc32ee",
   "metadata": {},
   "outputs": [],
   "source": []
  },
  {
   "cell_type": "code",
   "execution_count": null,
   "id": "bd80c9cb",
   "metadata": {},
   "outputs": [],
   "source": []
  },
  {
   "cell_type": "code",
   "execution_count": null,
   "id": "efb6edd7",
   "metadata": {},
   "outputs": [],
   "source": []
  },
  {
   "cell_type": "code",
   "execution_count": null,
   "id": "717eb4b1",
   "metadata": {},
   "outputs": [],
   "source": [
    "import json\n",
    "\n"
   ]
  },
  {
   "cell_type": "code",
   "execution_count": null,
   "id": "59bc2b69",
   "metadata": {},
   "outputs": [],
   "source": []
  },
  {
   "cell_type": "code",
   "execution_count": null,
   "id": "2d07f727",
   "metadata": {},
   "outputs": [],
   "source": [
    "hell in hand basket 6555666"
   ]
  },
  {
   "cell_type": "code",
   "execution_count": null,
   "id": "d989ea73-0daf-4cfc-bd42-f84fe21d523e",
   "metadata": {
    "tags": []
   },
   "outputs": [],
   "source": [
    "import RedCap\n",
    "from importlib import reload\n",
    "\n",
    "\n",
    "# This will reload the RedCap module when if there is change \n",
    "reload(RedCap)"
   ]
  },
  {
   "cell_type": "code",
   "execution_count": null,
   "id": "02cecef7-f760-4dd3-9b09-5157215e5555",
   "metadata": {
    "tags": []
   },
   "outputs": [],
   "source": [
    "import json\n",
    "my_tokens = None\n",
    "\n",
    "# Open the Json file for reading which contain API tokens \n",
    "with open('api_keys.json', mode = 'r') as file:\n",
    "    # Load the JSON data from file\n",
    "    my_tokens = json.load(file)\n",
    "len(my_tokens.items())"
   ]
  },
  {
   "cell_type": "markdown",
   "id": "193ea406-ac31-4010-858e-cabbf6fb4aba",
   "metadata": {
    "tags": []
   },
   "source": [
    "> ### <font color=#42f5c2>Summary count</font>\n"
   ]
  },
  {
   "cell_type": "code",
   "execution_count": null,
   "id": "fc4d59dc",
   "metadata": {},
   "outputs": [],
   "source": [
    "def sub_dict_from_key_value(d, start_key, start_value):\n",
    "    # Initialize the new dictionary\n",
    "    new_dict = {}\n",
    "    \n",
    "    # Start adding items after the specified key-value position\n",
    "    start_adding = False\n",
    "    \n",
    "    for key, values in d.items():\n",
    "        # Check if we've reached the start key\n",
    "        if key == start_key:\n",
    "            # Try to find the index of the specified start value in the list of values\n",
    "            try:\n",
    "                start_index = values.index(start_value)\n",
    "                # Add the sublist from start_value to the end of the list\n",
    "                new_dict[key] = values[start_index:]\n",
    "                # Set flag to add the rest of the keys\n",
    "                start_adding = True\n",
    "            except ValueError:\n",
    "                raise ValueError(f\"Value '{start_value}' not found in the list for key '{start_key}'.\")\n",
    "        elif start_adding:\n",
    "            # For all keys after start_key, add their entire list of values\n",
    "            new_dict[key] = values\n",
    "\n",
    "    return new_dict\n",
    "\n",
    "# Example usage\n",
    "my_dict = {'a': [5, 6, 7], 'b': [7, 4, 6], 'c': [9, 8, 10]}\n",
    "result = sub_dict_from_key_value(my_dict, 'b', 4)\n",
    "print(result)  # Output: {'b': [4, 6], 'c': [9, 8, 10]}\n"
   ]
  },
  {
   "cell_type": "code",
   "execution_count": null,
   "id": "76ad94e3-ac38-4ea7-971f-5b48c76b1cb4",
   "metadata": {
    "jp-MarkdownHeadingCollapsed": true,
    "tags": []
   },
   "outputs": [],
   "source": [
    "# Summary count of\n",
    "print(f'Project_Catagory {\" \"*18} Count \\n{\"_\"*40}')\n",
    "for key in my_tokens.keys():\n",
    "    print(f'{key} : {\" \"*(35-len(key))} {len(my_tokens[key])}')\n"
   ]
  },
  {
   "cell_type": "markdown",
   "id": "68134dee-7e90-4951-b2dd-90bd914fdcb1",
   "metadata": {
    "jp-MarkdownHeadingCollapsed": true,
    "tags": []
   },
   "source": [
    "> ### <font color=#42f5c2>Call projectName function to get RECap projects name using token</font>\n"
   ]
  },
  {
   "cell_type": "code",
   "execution_count": null,
   "id": "385e4520-bc02-476d-b12e-43cc0ceaa25c",
   "metadata": {
    "tags": []
   },
   "outputs": [],
   "source": [
    "# Import user defined module called 'REDCap'\n",
    "'''\n",
    "There is a function called \"project_name()\" \n",
    "It will take the API keys and loads the project name assigned to it\n",
    "'''\n",
    "from REDCap import project_name\n",
    "projects  = project_name(my_tokens)\n",
    "print(projects.keys())"
   ]
  },
  {
   "cell_type": "markdown",
   "id": "9d6696fe-cace-4dc0-b3a9-bf374ad47879",
   "metadata": {
    "jp-MarkdownHeadingCollapsed": true,
    "tags": []
   },
   "source": [
    "> ### <font color=#42f5c2>The  code below  takes user input of export format</font>\n",
    "> <ul>\n",
    "    <li>1 - CSV Data Raw</li>\n",
    "    <li>2 - CSV Data Label</li>\n",
    "    <li>3 - CSV Data Dictionary</li>\n",
    "    <li>4 - XML Metadata Only</li>\n",
    "    <li>5 - XML Metadata and Data</li>\n",
    "    <li>6 - All</li>\n",
    "</ul>\n"
   ]
  },
  {
   "cell_type": "code",
   "execution_count": null,
   "id": "ba363be2-c856-4ffc-b75d-09bde15ffe5a",
   "metadata": {
    "tags": []
   },
   "outputs": [],
   "source": [
    "import Exceptions\n",
    "input_message = ''' Choose the Format of Data:\n",
    "                                           1 - CSV Data Raw\n",
    "                                           2 - CSV Data Label\n",
    "                                           3 - CSV Data Dictionary\n",
    "                                           4 - XML Metadata Only\n",
    "                                           5 - XML Metadata and Data\n",
    "                                           6 - All'''\n",
    "format_list = {1:'csv raw', 2:'csv label', 3:'csv data dictionary', 4:'xml meta data', 5:'xml metadata and data', 6:'all'}\n",
    "\n",
    "\n",
    "\n",
    "\n",
    "\n",
    "export_format = None\n",
    "\n",
    "while True:\n",
    "    try:\n",
    "        export_format = input(input_message)\n",
    "        if not export_format.isdigit():\n",
    "            input_message = ''\n",
    "        export_format = int(export_format)\n",
    "        if export_format < 1 or export_format > 6:\n",
    "            input_message = ''\n",
    "            raise Exceptions.InputError()\n",
    "    except ValueError:\n",
    "        print('Error: Enter a valid selection')\n",
    "    except Exceptions.InputError as e:\n",
    "        print(f'Error: {e}')\n",
    "    else: \n",
    "        break\n",
    "\n",
    "print(f'{format_list[export_format]} Selected')\n",
    "export_format = format_list[export_format]\n",
    "export_format\n",
    "        "
   ]
  },
  {
   "cell_type": "markdown",
   "id": "1bb89d37-e6d3-4152-82c1-d3a431fded51",
   "metadata": {
    "jp-MarkdownHeadingCollapsed": true,
    "tags": []
   },
   "source": [
    "> ### <font color=#42f5c2>Creating Necessary Directories in Local Computer</font>\n"
   ]
  },
  {
   "cell_type": "code",
   "execution_count": null,
   "id": "a2e1dca2-9e57-46e4-b7d6-98cd7c428919",
   "metadata": {
    "tags": []
   },
   "outputs": [],
   "source": [
    "import os\n",
    "import requests\n",
    "import csv\n",
    "import re\n",
    "from datetime import date\n",
    "\n",
    "\n",
    "url = 'https://redcapsvr2.ahri.gov.et/api/'\n",
    "\n",
    "current_date = date.today().strftime('%B-%d-%Y')\n",
    "root = 'E:\\\\MNTD\\Backup\\\\'+current_date\n",
    "sub_root_1 = ''\n",
    "sub_root_2 = ''\n",
    "sub_root_3 = ''\n",
    "file_paths = dict()\n",
    "\n",
    "if not os.path.exists(root):\n",
    "    os.makedirs(root)\n",
    "os.chdir(root)\n",
    "\n",
    "for folder in projects.keys():\n",
    "    sub_root_1 = folder\n",
    "    if not os.path.exists(sub_root_1):\n",
    "        os.makedirs(sub_root_1)\n",
    "    for project, token in zip(projects[folder], my_tokens[folder]): \n",
    "        if re.findall(r'[\\/:?\"<>|]', project):\n",
    "              project = re.sub(r'[\\\\/:?\"<>|]','_',project)\n",
    "        # print(project)\n",
    "        sub_root_2 = sub_root_1 + '\\\\' + project.strip()\n",
    "               \n",
    "        if not os.path.exists(sub_root_2):   #create directory in local computer if it doesn't exist\n",
    "            os.makedirs(sub_root_2)\n",
    "        file_paths[token] = sub_root_2    \n",
    "\n",
    "\n",
    "print('done')"
   ]
  },
  {
   "cell_type": "code",
   "execution_count": null,
   "id": "846cf923-5316-4d72-9174-ac9a8d8582bc",
   "metadata": {
    "tags": []
   },
   "outputs": [],
   "source": [
    "switch_format = {\n",
    "            'csv data raw' : csv_data_raw,\n",
    "            'csv data label' : csv_data_label,\n",
    "            'csv data dictionary': csv_data_dictionary,\n",
    "            'xml metadata only': xml_metadata_only,\n",
    "            'xml metadata and data' : xml_metadata_and_data,\n",
    "            'all': all_exporter\n",
    "}\n",
    "\n",
    "selected_format = switch_format.get(export_format)\n",
    "count = selected_format(file_paths)\n",
    "print(f'Summary: {count} Total files saved successfully')"
   ]
  },
  {
   "cell_type": "code",
   "execution_count": null,
   "id": "a84df631-5529-4d43-9ce9-a6e0a7fb879d",
   "metadata": {
    "tags": []
   },
   "outputs": [],
   "source": [
    "def csv_data_raw(file_paths):\n",
    "    count = 0\n",
    "    with requests.Session() as session:\n",
    "        for token, file_path in file_paths.items():\n",
    "            #The base name of a path is the last component of the path\n",
    "            file_name = os.path.basename(file_path)\n",
    "            file_path = os.path.join(file_path, 'CSV Data Raw')\n",
    "            if not os.path.exists(file_path):\n",
    "                os.makedirs(file_path)\n",
    "\n",
    "            file_path = os.path.join(file_path, file_name)[:215] + '.csv'\n",
    "\n",
    "            data = {\n",
    "                'token': token,\n",
    "                'content': 'record',\n",
    "                'action': 'export',\n",
    "                'format': 'csv',\n",
    "                'type': 'flat',\n",
    "                'csvDelimiter': '',\n",
    "                'rawOrLabel': 'raw',\n",
    "                'rawOrLabelHeaders': 'raw',\n",
    "                'exportCheckboxLabel': 'false',\n",
    "                'exportSurveyFields': 'false',\n",
    "                'exportDataAccessGroups': 'false', \n",
    "                'returnFormat': 'json'\n",
    "            }\n",
    "            csv_data = session.post(url,data=data)\n",
    "\n",
    "            if csv_data.status_code == 200:   \n",
    "                with open(file_path, mode='wb') as file:\n",
    "                    file.write(csv_data.content)\n",
    "                    count += 1\n",
    "            else:\n",
    "                print(f'CSV Data Raw : {count} files Saved! \\n But Something Wrong with Loading {file_name}')\n",
    "                \n",
    "    print(f'CSV Data Raw: {count} files saved successfully')\n",
    "    return count"
   ]
  },
  {
   "cell_type": "code",
   "execution_count": null,
   "id": "13ace49a-caa0-4e90-9067-d7685e3069db",
   "metadata": {
    "tags": []
   },
   "outputs": [],
   "source": [
    "def csv_data_label(file_paths):\n",
    "    count = 0\n",
    "    with requests.Session() as session:\n",
    "        for token, file_path in file_paths.items():\n",
    "            #The base name of a path is the last component of the path\n",
    "            file_name = os.path.basename(file_path)\n",
    "            file_path = os.path.join(file_path, 'CSV Data Label')\n",
    "            if not os.path.exists(file_path):\n",
    "                os.makedirs(file_path)\n",
    "\n",
    "            file_path = os.path.join(file_path, file_name)[:215] + '.csv'\n",
    "\n",
    "            data = {\n",
    "                'token': token,\n",
    "                'content': 'record',\n",
    "                'action': 'export',\n",
    "                'format': 'csv',\n",
    "                'type': 'flat',\n",
    "                'csvDelimiter': '',\n",
    "                'rawOrLabel': 'label',\n",
    "                'rawOrLabelHeaders': 'raw',\n",
    "                'exportCheckboxLabel': 'false',\n",
    "                'exportSurveyFields': 'false',\n",
    "                'exportDataAccessGroups': 'false', \n",
    "                'returnFormat': 'json'\n",
    "            }\n",
    "            csv_data = session.post(url,data=data)\n",
    "\n",
    "            if csv_data.status_code == 200:   \n",
    "                with open(file_path, mode='wb') as file:\n",
    "                    file.write(csv_data.content)\n",
    "                    count += 1\n",
    "            else:\n",
    "                print(f'CSV Data Label: {count} files Saved! \\n But Something Wrong with Loading {file_name}')\n",
    "                \n",
    "    print(f'CSV Data Label: {count} files saved successfully')\n",
    "    return count"
   ]
  },
  {
   "cell_type": "code",
   "execution_count": null,
   "id": "d2ba5535-918e-4f48-8296-fa076673a887",
   "metadata": {
    "tags": []
   },
   "outputs": [],
   "source": [
    "def csv_data_dictionary(file_paths):\n",
    "    count = 0\n",
    "    with requests.Session() as session:\n",
    "        for token, file_path in file_paths.items():\n",
    "            #The base name of a path is the last component of the path\n",
    "            file_name = os.path.basename(file_path)\n",
    "            file_path = os.path.join(file_path, 'CSV Data Dictionary')\n",
    "            if not os.path.exists(file_path):\n",
    "                os.makedirs(file_path)\n",
    "\n",
    "            file_path = os.path.join(file_path, file_name)[:215] + '.csv'\n",
    "\n",
    "            data = {\n",
    "                'token': token,\n",
    "                'content': 'metadata',\n",
    "                'format': 'csv',\n",
    "                'returnFormat': 'csv'\n",
    "            }\n",
    "            csv_data = session.post(url,data=data)\n",
    "\n",
    "            if csv_data.status_code == 200:   \n",
    "                with open(file_path, mode='wb') as file:\n",
    "                    file.write(csv_data.content)\n",
    "                    count += 1\n",
    "            else:\n",
    "                print(f'CSV Data Dictionary: {count} files Saved! \\n But Something Wrong with Loading {file_name}')\n",
    "                \n",
    "    print(f'CSV Data Dictionary: {count} files saved successfully')\n",
    "    return count"
   ]
  },
  {
   "cell_type": "code",
   "execution_count": null,
   "id": "cb6dc2fb-0893-4c19-abc1-70c95d1bb9e7",
   "metadata": {},
   "outputs": [],
   "source": [
    "def xml_metadata_only(file_path):\n",
    "    count = 0\n",
    "    with requests.Session() as session:\n",
    "        for token, file_path in file_paths.items():\n",
    "            #The base name of a path is the last component of the path\n",
    "            file_name = os.path.basename(file_path)\n",
    "            file_path = os.path.join(file_path, 'XML Metadata Only')\n",
    "            if not os.path.exists(file_path):\n",
    "                os.makedirs(file_path)\n",
    "\n",
    "            file_path = os.path.join(file_path, file_name)[:215] + '.xml'\n",
    "\n",
    "            data_config = {'token' : token,\n",
    "                          'content' : 'project_xml',\n",
    "                          'format' : 'xml',\n",
    "                          'returnMetadataOnly' : 'true',\n",
    "                          'exportFiles' : 'false',\n",
    "                          'exportSurveyFields' : 'false',\n",
    "                          'exportDataAccessGroups' : 'false',\n",
    "                          'returnFormat' : 'json'\n",
    "                            }\n",
    "            xml_data = session.post(url, data = data_config)\n",
    "\n",
    "            # write xml to local storage\n",
    "            if xml_data.status_code == 200:\n",
    "                with open(file_path, mode = 'wb') as file:\n",
    "                    file.write(xml_data.content)\n",
    "                    count += 1\n",
    "            else:\n",
    "                print(f'XML Metadata Only: {count} files Saved! \\n But Something Wrong with Loading {file_name}')\n",
    "                \n",
    "    print(f'XML Metadata Only: {count} files saved successfully')\n",
    "    return count\n",
    "     "
   ]
  },
  {
   "cell_type": "code",
   "execution_count": null,
   "id": "77e846b1-142c-462c-ba16-a0343385742f",
   "metadata": {},
   "outputs": [],
   "source": [
    "def xml_metadata_and_data(file_path):\n",
    "    count = 0\n",
    "    with requests.Session() as session:\n",
    "        for token, file_path in file_paths.items():\n",
    "            #The base name of a path is the last component of the path\n",
    "            file_name = os.path.basename(file_path)\n",
    "            file_path = os.path.join(file_path, 'XML Metadata and Data')\n",
    "            if not os.path.exists(file_path):\n",
    "                os.makedirs(file_path)\n",
    "\n",
    "            file_path = os.path.join(file_path, file_name)[:215] + '.xml'\n",
    "\n",
    "            data_config = {'token' : token,\n",
    "              'content' : 'project_xml',\n",
    "              'format' : 'xml',\n",
    "              'returnMetadataOnly' : 'false',\n",
    "              'exportFiles' : 'false',\n",
    "              'exportSurveyFields' : 'false',\n",
    "              'exportDataAccessGroups' : 'false',\n",
    "              'returnFormat' : 'json'\n",
    "                }\n",
    "            xml_data = session.post(url, data = data_config)\n",
    "\n",
    "            # write xml to local storage\n",
    "            if xml_data.status_code == 200:\n",
    "                with open(file_path, mode = 'wb') as file:\n",
    "                    file.write(xml_data.content)\n",
    "                    count += 1\n",
    "            else:\n",
    "                print(f'XML Metadata and Data: {count} files Saved! \\n But Something Wrong with Loading {file_name}')\n",
    "                \n",
    "    print(f'XML Metadata and Data: {count} files saved successfully')\n",
    "    return count\n",
    "     "
   ]
  },
  {
   "cell_type": "code",
   "execution_count": null,
   "id": "730798c4-1f52-456b-b62e-5b2e1fb0c836",
   "metadata": {},
   "outputs": [],
   "source": [
    "def all_exporter(file_path):\n",
    "    count  = csv_data_raw(file_path) + csv_data_label(file_path) + csv_data_dictionary(file_path) + xml_metadata_only(file_path) + xml_metadata_and_data(file_path)\n",
    "    return count"
   ]
  },
  {
   "cell_type": "code",
   "execution_count": null,
   "id": "e93fe60f-e7cc-4148-865f-b3fe5c28ac4a",
   "metadata": {},
   "outputs": [],
   "source": []
  }
 ],
 "metadata": {
  "kernelspec": {
   "display_name": "Python 3 (ipykernel)",
   "language": "python",
   "name": "python3"
  },
  "language_info": {
   "codemirror_mode": {
    "name": "ipython",
    "version": 3
   },
   "file_extension": ".py",
   "mimetype": "text/x-python",
   "name": "python",
   "nbconvert_exporter": "python",
   "pygments_lexer": "ipython3",
   "version": "3.11.5"
  }
 },
 "nbformat": 4,
 "nbformat_minor": 5
}
