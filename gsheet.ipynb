{
 "cells": [
  {
   "cell_type": "code",
   "execution_count": 9,
   "id": "033e75e8-5cf7-43f7-8e89-bda0358950e7",
   "metadata": {
    "tags": []
   },
   "outputs": [
    {
     "ename": "ValueError",
     "evalue": "('Unexpected credentials type', None, 'Expected', 'service_account')",
     "output_type": "error",
     "traceback": [
      "\u001b[1;31m---------------------------------------------------------------------------\u001b[0m",
      "\u001b[1;31mValueError\u001b[0m                                Traceback (most recent call last)",
      "Cell \u001b[1;32mIn[9], line 6\u001b[0m\n\u001b[0;32m      2\u001b[0m \u001b[38;5;28;01mfrom\u001b[39;00m \u001b[38;5;21;01moauth2client\u001b[39;00m\u001b[38;5;21;01m.\u001b[39;00m\u001b[38;5;21;01mservice_account\u001b[39;00m \u001b[38;5;28;01mimport\u001b[39;00m ServiceAccountCredentials\n\u001b[0;32m      4\u001b[0m scope \u001b[38;5;241m=\u001b[39m [\u001b[38;5;124m'\u001b[39m\u001b[38;5;124mhttps://spreadsheets.google.com/feeds\u001b[39m\u001b[38;5;124m'\u001b[39m, \u001b[38;5;124m'\u001b[39m\u001b[38;5;124mhttps://www.googleapis.com/auth/drive\u001b[39m\u001b[38;5;124m'\u001b[39m]\n\u001b[1;32m----> 6\u001b[0m credentials \u001b[38;5;241m=\u001b[39m ServiceAccountCredentials\u001b[38;5;241m.\u001b[39mfrom_json_keyfile_name(\u001b[38;5;124m'\u001b[39m\u001b[38;5;124mcredentials.json\u001b[39m\u001b[38;5;124m'\u001b[39m, scope)\n\u001b[0;32m      7\u001b[0m client \u001b[38;5;241m=\u001b[39m gspread\u001b[38;5;241m.\u001b[39mauthorize(credentials)\n",
      "File \u001b[1;32m~\\anaconda3\\Lib\\site-packages\\oauth2client\\service_account.py:221\u001b[0m, in \u001b[0;36mServiceAccountCredentials.from_json_keyfile_name\u001b[1;34m(cls, filename, scopes, token_uri, revoke_uri)\u001b[0m\n\u001b[0;32m    219\u001b[0m \u001b[38;5;28;01mwith\u001b[39;00m \u001b[38;5;28mopen\u001b[39m(filename, \u001b[38;5;124m'\u001b[39m\u001b[38;5;124mr\u001b[39m\u001b[38;5;124m'\u001b[39m) \u001b[38;5;28;01mas\u001b[39;00m file_obj:\n\u001b[0;32m    220\u001b[0m     client_credentials \u001b[38;5;241m=\u001b[39m json\u001b[38;5;241m.\u001b[39mload(file_obj)\n\u001b[1;32m--> 221\u001b[0m \u001b[38;5;28;01mreturn\u001b[39;00m \u001b[38;5;28mcls\u001b[39m\u001b[38;5;241m.\u001b[39m_from_parsed_json_keyfile(client_credentials, scopes,\n\u001b[0;32m    222\u001b[0m                                      token_uri\u001b[38;5;241m=\u001b[39mtoken_uri,\n\u001b[0;32m    223\u001b[0m                                      revoke_uri\u001b[38;5;241m=\u001b[39mrevoke_uri)\n",
      "File \u001b[1;32m~\\anaconda3\\Lib\\site-packages\\oauth2client\\service_account.py:171\u001b[0m, in \u001b[0;36mServiceAccountCredentials._from_parsed_json_keyfile\u001b[1;34m(cls, keyfile_dict, scopes, token_uri, revoke_uri)\u001b[0m\n\u001b[0;32m    169\u001b[0m creds_type \u001b[38;5;241m=\u001b[39m keyfile_dict\u001b[38;5;241m.\u001b[39mget(\u001b[38;5;124m'\u001b[39m\u001b[38;5;124mtype\u001b[39m\u001b[38;5;124m'\u001b[39m)\n\u001b[0;32m    170\u001b[0m \u001b[38;5;28;01mif\u001b[39;00m creds_type \u001b[38;5;241m!=\u001b[39m client\u001b[38;5;241m.\u001b[39mSERVICE_ACCOUNT:\n\u001b[1;32m--> 171\u001b[0m     \u001b[38;5;28;01mraise\u001b[39;00m \u001b[38;5;167;01mValueError\u001b[39;00m(\u001b[38;5;124m'\u001b[39m\u001b[38;5;124mUnexpected credentials type\u001b[39m\u001b[38;5;124m'\u001b[39m, creds_type,\n\u001b[0;32m    172\u001b[0m                      \u001b[38;5;124m'\u001b[39m\u001b[38;5;124mExpected\u001b[39m\u001b[38;5;124m'\u001b[39m, client\u001b[38;5;241m.\u001b[39mSERVICE_ACCOUNT)\n\u001b[0;32m    174\u001b[0m service_account_email \u001b[38;5;241m=\u001b[39m keyfile_dict[\u001b[38;5;124m'\u001b[39m\u001b[38;5;124mclient_email\u001b[39m\u001b[38;5;124m'\u001b[39m]\n\u001b[0;32m    175\u001b[0m private_key_pkcs8_pem \u001b[38;5;241m=\u001b[39m keyfile_dict[\u001b[38;5;124m'\u001b[39m\u001b[38;5;124mprivate_key\u001b[39m\u001b[38;5;124m'\u001b[39m]\n",
      "\u001b[1;31mValueError\u001b[0m: ('Unexpected credentials type', None, 'Expected', 'service_account')"
     ]
    }
   ],
   "source": [
    "import gspread\n",
    "from oauth2client.service_account import ServiceAccountCredentials\n",
    "\n",
    "scope = ['https://spreadsheets.google.com/feeds', 'https://www.googleapis.com/auth/drive']\n",
    "\n",
    "credentials = ServiceAccountCredentials.from_json_keyfile_name('credentials.json', scope)\n",
    "client = gspread.authorize(credentials)"
   ]
  },
  {
   "cell_type": "code",
   "execution_count": 8,
   "id": "fb447688-1e08-43c3-9328-1c3a3c2531da",
   "metadata": {
    "tags": []
   },
   "outputs": [
    {
     "ename": "MalformedError",
     "evalue": "Service account info was not in the expected format, missing fields client_email, token_uri.",
     "output_type": "error",
     "traceback": [
      "\u001b[1;31m---------------------------------------------------------------------------\u001b[0m",
      "\u001b[1;31mMalformedError\u001b[0m                            Traceback (most recent call last)",
      "Cell \u001b[1;32mIn[8], line 11\u001b[0m\n\u001b[0;32m      5\u001b[0m scope \u001b[38;5;241m=\u001b[39m [\n\u001b[0;32m      6\u001b[0m     \u001b[38;5;124m'\u001b[39m\u001b[38;5;124mhttps://spreadsheets.google.com/feeds\u001b[39m\u001b[38;5;124m'\u001b[39m,\n\u001b[0;32m      7\u001b[0m     \u001b[38;5;124m'\u001b[39m\u001b[38;5;124mhttps://www.googleapis.com/auth/drive\u001b[39m\u001b[38;5;124m'\u001b[39m\n\u001b[0;32m      8\u001b[0m ]\n\u001b[0;32m     10\u001b[0m \u001b[38;5;66;03m# Provide the path to your credentials file\u001b[39;00m\n\u001b[1;32m---> 11\u001b[0m credentials \u001b[38;5;241m=\u001b[39m gspread\u001b[38;5;241m.\u001b[39mservice_account(\u001b[38;5;124m'\u001b[39m\u001b[38;5;124mcredentials.json\u001b[39m\u001b[38;5;124m'\u001b[39m)\n\u001b[0;32m     13\u001b[0m credentials\u001b[38;5;241m.\u001b[39mopen(\u001b[38;5;124m'\u001b[39m\u001b[38;5;124mWeekly Meeting Plan\u001b[39m\u001b[38;5;124m'\u001b[39m)\n",
      "File \u001b[1;32m~\\anaconda3\\Lib\\site-packages\\gspread\\auth.py:323\u001b[0m, in \u001b[0;36mservice_account\u001b[1;34m(filename, scopes, http_client)\u001b[0m\n\u001b[0;32m    294\u001b[0m \u001b[38;5;28;01mdef\u001b[39;00m \u001b[38;5;21mservice_account\u001b[39m(\n\u001b[0;32m    295\u001b[0m     filename: Union[Path, \u001b[38;5;28mstr\u001b[39m] \u001b[38;5;241m=\u001b[39m DEFAULT_SERVICE_ACCOUNT_FILENAME,\n\u001b[0;32m    296\u001b[0m     scopes: Iterable[\u001b[38;5;28mstr\u001b[39m] \u001b[38;5;241m=\u001b[39m DEFAULT_SCOPES,\n\u001b[0;32m    297\u001b[0m     http_client: HTTPClientType \u001b[38;5;241m=\u001b[39m HTTPClient,\n\u001b[0;32m    298\u001b[0m ) \u001b[38;5;241m-\u001b[39m\u001b[38;5;241m>\u001b[39m Client:\n\u001b[0;32m    299\u001b[0m \u001b[38;5;250m    \u001b[39m\u001b[38;5;124;03m\"\"\"Authenticate using a service account.\u001b[39;00m\n\u001b[0;32m    300\u001b[0m \n\u001b[0;32m    301\u001b[0m \u001b[38;5;124;03m    ``scopes`` parameter defaults to read/write scope available in\u001b[39;00m\n\u001b[1;32m   (...)\u001b[0m\n\u001b[0;32m    321\u001b[0m \u001b[38;5;124;03m    :rtype: :class:`gspread.client.Client`\u001b[39;00m\n\u001b[0;32m    322\u001b[0m \u001b[38;5;124;03m    \"\"\"\u001b[39;00m\n\u001b[1;32m--> 323\u001b[0m     creds \u001b[38;5;241m=\u001b[39m SACredentials\u001b[38;5;241m.\u001b[39mfrom_service_account_file(filename, scopes\u001b[38;5;241m=\u001b[39mscopes)\n\u001b[0;32m    324\u001b[0m     \u001b[38;5;28;01mreturn\u001b[39;00m Client(auth\u001b[38;5;241m=\u001b[39mcreds, http_client\u001b[38;5;241m=\u001b[39mhttp_client)\n",
      "File \u001b[1;32m~\\anaconda3\\Lib\\site-packages\\google\\oauth2\\service_account.py:257\u001b[0m, in \u001b[0;36mCredentials.from_service_account_file\u001b[1;34m(cls, filename, **kwargs)\u001b[0m\n\u001b[0;32m    245\u001b[0m \u001b[38;5;129m@classmethod\u001b[39m\n\u001b[0;32m    246\u001b[0m \u001b[38;5;28;01mdef\u001b[39;00m \u001b[38;5;21mfrom_service_account_file\u001b[39m(\u001b[38;5;28mcls\u001b[39m, filename, \u001b[38;5;241m*\u001b[39m\u001b[38;5;241m*\u001b[39mkwargs):\n\u001b[0;32m    247\u001b[0m \u001b[38;5;250m    \u001b[39m\u001b[38;5;124;03m\"\"\"Creates a Credentials instance from a service account json file.\u001b[39;00m\n\u001b[0;32m    248\u001b[0m \n\u001b[0;32m    249\u001b[0m \u001b[38;5;124;03m    Args:\u001b[39;00m\n\u001b[1;32m   (...)\u001b[0m\n\u001b[0;32m    255\u001b[0m \u001b[38;5;124;03m            credentials.\u001b[39;00m\n\u001b[0;32m    256\u001b[0m \u001b[38;5;124;03m    \"\"\"\u001b[39;00m\n\u001b[1;32m--> 257\u001b[0m     info, signer \u001b[38;5;241m=\u001b[39m _service_account_info\u001b[38;5;241m.\u001b[39mfrom_filename(\n\u001b[0;32m    258\u001b[0m         filename, require\u001b[38;5;241m=\u001b[39m[\u001b[38;5;124m\"\u001b[39m\u001b[38;5;124mclient_email\u001b[39m\u001b[38;5;124m\"\u001b[39m, \u001b[38;5;124m\"\u001b[39m\u001b[38;5;124mtoken_uri\u001b[39m\u001b[38;5;124m\"\u001b[39m]\n\u001b[0;32m    259\u001b[0m     )\n\u001b[0;32m    260\u001b[0m     \u001b[38;5;28;01mreturn\u001b[39;00m \u001b[38;5;28mcls\u001b[39m\u001b[38;5;241m.\u001b[39m_from_signer_and_info(signer, info, \u001b[38;5;241m*\u001b[39m\u001b[38;5;241m*\u001b[39mkwargs)\n",
      "File \u001b[1;32m~\\anaconda3\\Lib\\site-packages\\google\\auth\\_service_account_info.py:80\u001b[0m, in \u001b[0;36mfrom_filename\u001b[1;34m(filename, require, use_rsa_signer)\u001b[0m\n\u001b[0;32m     78\u001b[0m \u001b[38;5;28;01mwith\u001b[39;00m io\u001b[38;5;241m.\u001b[39mopen(filename, \u001b[38;5;124m\"\u001b[39m\u001b[38;5;124mr\u001b[39m\u001b[38;5;124m\"\u001b[39m, encoding\u001b[38;5;241m=\u001b[39m\u001b[38;5;124m\"\u001b[39m\u001b[38;5;124mutf-8\u001b[39m\u001b[38;5;124m\"\u001b[39m) \u001b[38;5;28;01mas\u001b[39;00m json_file:\n\u001b[0;32m     79\u001b[0m     data \u001b[38;5;241m=\u001b[39m json\u001b[38;5;241m.\u001b[39mload(json_file)\n\u001b[1;32m---> 80\u001b[0m     \u001b[38;5;28;01mreturn\u001b[39;00m data, from_dict(data, require\u001b[38;5;241m=\u001b[39mrequire, use_rsa_signer\u001b[38;5;241m=\u001b[39muse_rsa_signer)\n",
      "File \u001b[1;32m~\\anaconda3\\Lib\\site-packages\\google\\auth\\_service_account_info.py:50\u001b[0m, in \u001b[0;36mfrom_dict\u001b[1;34m(data, require, use_rsa_signer)\u001b[0m\n\u001b[0;32m     47\u001b[0m missing \u001b[38;5;241m=\u001b[39m keys_needed\u001b[38;5;241m.\u001b[39mdifference(data\u001b[38;5;241m.\u001b[39mkeys())\n\u001b[0;32m     49\u001b[0m \u001b[38;5;28;01mif\u001b[39;00m missing:\n\u001b[1;32m---> 50\u001b[0m     \u001b[38;5;28;01mraise\u001b[39;00m exceptions\u001b[38;5;241m.\u001b[39mMalformedError(\n\u001b[0;32m     51\u001b[0m         \u001b[38;5;124m\"\u001b[39m\u001b[38;5;124mService account info was not in the expected format, missing \u001b[39m\u001b[38;5;124m\"\u001b[39m\n\u001b[0;32m     52\u001b[0m         \u001b[38;5;124m\"\u001b[39m\u001b[38;5;124mfields \u001b[39m\u001b[38;5;132;01m{}\u001b[39;00m\u001b[38;5;124m.\u001b[39m\u001b[38;5;124m\"\u001b[39m\u001b[38;5;241m.\u001b[39mformat(\u001b[38;5;124m\"\u001b[39m\u001b[38;5;124m, \u001b[39m\u001b[38;5;124m\"\u001b[39m\u001b[38;5;241m.\u001b[39mjoin(missing))\n\u001b[0;32m     53\u001b[0m     )\n\u001b[0;32m     55\u001b[0m \u001b[38;5;66;03m# Create a signer.\u001b[39;00m\n\u001b[0;32m     56\u001b[0m \u001b[38;5;28;01mif\u001b[39;00m use_rsa_signer:\n",
      "\u001b[1;31mMalformedError\u001b[0m: Service account info was not in the expected format, missing fields client_email, token_uri."
     ]
    }
   ],
   "source": [
    "import gspread\n",
    "# from oauth2client.service_account import ServiceAccountCredentials\n",
    "\n",
    "# Define the scope\n",
    "scope = [\n",
    "    'https://spreadsheets.google.com/feeds',\n",
    "    'https://www.googleapis.com/auth/drive'\n",
    "]\n",
    "\n",
    "# Provide the path to your credentials file\n",
    "credentials = gspread.service_account('credentials.json')\n",
    "\n",
    "credentials.open('Weekly Meeting Plan')\n",
    "\n"
   ]
  },
  {
   "cell_type": "code",
   "execution_count": null,
   "id": "15fa9cab-6a5d-487e-8af8-fadbec3652e4",
   "metadata": {},
   "outputs": [],
   "source": [
    "# Open a spreadsheet by its title\n",
    "sheet = gc.open('Your Google Sheet Name')\n",
    "\n",
    "# Select a worksheet\n",
    "worksheet = sheet.sheet1  # Change 'sheet1' to your desired worksheet name\n",
    "\n",
    "# Read data from the worksheet\n",
    "data = worksheet.get_all_values()\n",
    "print(data)\n"
   ]
  }
 ],
 "metadata": {
  "kernelspec": {
   "display_name": "Python 3 (ipykernel)",
   "language": "python",
   "name": "python3"
  },
  "language_info": {
   "codemirror_mode": {
    "name": "ipython",
    "version": 3
   },
   "file_extension": ".py",
   "mimetype": "text/x-python",
   "name": "python",
   "nbconvert_exporter": "python",
   "pygments_lexer": "ipython3",
   "version": "3.11.5"
  }
 },
 "nbformat": 4,
 "nbformat_minor": 5
}
